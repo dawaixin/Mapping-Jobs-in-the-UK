{
 "cells": [
  {
   "cell_type": "code",
   "execution_count": 1,
   "metadata": {},
   "outputs": [],
   "source": [
    "import os, json\n",
    "import pandas as pd\n",
    "import timeit\n",
    "import sqlalchemy as alch\n",
    "import re\n",
    "from shapely.geometry import Point\n",
    "from shapely.geometry.polygon import Polygon\n",
    "from shapely.geometry import shape\n",
    "import fiona\n",
    "import pyproj"
   ]
  },
  {
   "cell_type": "code",
   "execution_count": 2,
   "metadata": {},
   "outputs": [
    {
     "name": "stdout",
     "output_type": "stream",
     "text": [
      "Wall time: 0 ns\n"
     ]
    }
   ],
   "source": [
    "%%time\n",
    "# OPEN THE JSON FILES AND STORE THE DATA\n",
    "\n",
    "\n",
    "path = '.'\n",
    "#json_files = [os.path.join(root, name)\n",
    "#       for root, dirs, files in os.walk(path)\n",
    "#       for name in files\n",
    "#       if name.endswith(\".json\")]\n",
    "json_files = ['.\\\\loc_file_all.json']\n"
   ]
  },
  {
   "cell_type": "code",
   "execution_count": 3,
   "metadata": {},
   "outputs": [
    {
     "name": "stdout",
     "output_type": "stream",
     "text": [
      "['.\\\\loc_file_all.json']\n"
     ]
    }
   ],
   "source": [
    "print(json_files)"
   ]
  },
  {
   "cell_type": "code",
   "execution_count": 4,
   "metadata": {},
   "outputs": [
    {
     "name": "stdout",
     "output_type": "stream",
     "text": [
      "Wall time: 25.5 s\n"
     ]
    }
   ],
   "source": [
    "%%time\n",
    "\n",
    "entries = []\n",
    "\n",
    "#open all files, count entries and add relevant info to the list\n",
    "for file in json_files:\n",
    "    with open(file, 'rb') as f:\n",
    "        data = f.readlines()\n",
    "        data = [json.loads(line) for line in data]\n",
    "        entries = entries + data"
   ]
  },
  {
   "cell_type": "code",
   "execution_count": 5,
   "metadata": {},
   "outputs": [
    {
     "name": "stdout",
     "output_type": "stream",
     "text": [
      "3114612\n"
     ]
    }
   ],
   "source": [
    "count = len(entries)\n",
    "print(count)"
   ]
  },
  {
   "cell_type": "code",
   "execution_count": 6,
   "metadata": {},
   "outputs": [
    {
     "name": "stdout",
     "output_type": "stream",
     "text": [
      "Wall time: 4.15 s\n"
     ]
    }
   ],
   "source": [
    "%%time\n",
    "keys = [None]*count\n",
    "values = [None]*count\n",
    "i = 0\n",
    "for entry in entries:\n",
    "    for key in entry.keys():\n",
    "        keys[i]= key\n",
    "        \n",
    "    for value in entry.values():\n",
    "        typ = value[0][2][0][4]\n",
    "        coords = value[0][2][0][1]\n",
    "        #obj is type and coord\n",
    "    obj = [typ, coords]\n",
    "    values[i] = obj\n",
    "    i+=1"
   ]
  },
  {
   "cell_type": "code",
   "execution_count": 7,
   "metadata": {},
   "outputs": [
    {
     "name": "stdout",
     "output_type": "stream",
     "text": [
      "Wall time: 33.4 s\n"
     ]
    }
   ],
   "source": [
    "%%time\n",
    "\n",
    "locs = [None]*count\n",
    "\n",
    "#cds_system = pyproj.CRS(\"EPSG:27700\")\n",
    "#wgs84=pyproj.CRS(\"EPSG:4326\")\n",
    "\n",
    "#transformer = pyproj.Transformer.from_crs(wgs84, \"epsg:27700\")\n",
    "\n",
    "\n",
    "i = 0\n",
    "bx = 0\n",
    "for value in values:\n",
    "    # get jobid\n",
    "    jobid = keys[i]\n",
    "    \n",
    "    # get coordinates\n",
    "    if value[0] == 'box':\n",
    "        bx += 1 \n",
    "        coords =  re.findall('\\(.*?\\)',value[1])\n",
    "        \n",
    "        latsum = 0\n",
    "        lngsum = 0\n",
    "        c = 0\n",
    "        for coord in coords:\n",
    "            lat, lng = map(float, coord.strip('()').split(','))\n",
    "            latsum += lat\n",
    "            lngsum += lng\n",
    "            c+=1\n",
    "        \n",
    "        x = latsum/c\n",
    "        y = lngsum/c\n",
    "        \n",
    "        # to place all boxes out of the uk for a test\n",
    "        #x = 0\n",
    "        #y = 0\n",
    "        \n",
    "    else:\n",
    "        x, y = map(float, coord.strip('()').split(',')) \n",
    "    \n",
    "    \n",
    "    #x, y = transformer.transform(x, y)\n",
    "    \n",
    "    cds = [x,y]\n",
    "    locs[i] = [jobid, cds]\n",
    "    i+=1\n"
   ]
  },
  {
   "cell_type": "code",
   "execution_count": null,
   "metadata": {},
   "outputs": [],
   "source": []
  },
  {
   "cell_type": "code",
   "execution_count": 8,
   "metadata": {},
   "outputs": [
    {
     "name": "stdout",
     "output_type": "stream",
     "text": [
      "[['37000000', [52.3234292, -0.1927723]], ['37000001', [51.231523679999995, -0.48607088000000004]], ['37000002', [53.38394864000001, -1.6107502999999999]], ['37000003', [51.4753219, -0.15964740000000002]], ['37000004', [53.47067634, -2.40216138]], ['37000005', [51.331284499999995, -0.7540981]], ['37000006', [51.4753219, -0.15964740000000002]], ['37000007', [52.40423952, -1.5382583]], ['37000008', [51.45614295999999, -2.6351899199999997]], ['37000009', [51.4753219, -0.15964740000000002]]]\n"
     ]
    }
   ],
   "source": [
    "print(locs[:10])"
   ]
  },
  {
   "cell_type": "code",
   "execution_count": 9,
   "metadata": {},
   "outputs": [
    {
     "name": "stdout",
     "output_type": "stream",
     "text": [
      "Wall time: 6.64 s\n"
     ]
    }
   ],
   "source": [
    "%%time\n",
    "with open('NUTS_Level_3__January_2018__Boundaries.GEOJSON', 'r') as f:\n",
    "        geo_data = f.read()\n",
    "        geo_data = json.loads(geo_data)\n",
    "\n",
    "        "
   ]
  },
  {
   "cell_type": "code",
   "execution_count": 10,
   "metadata": {},
   "outputs": [
    {
     "name": "stdout",
     "output_type": "stream",
     "text": [
      "Wall time: 256 ms\n"
     ]
    }
   ],
   "source": [
    "%%time\n",
    "\n",
    "nutscodes = []\n",
    "nutsnames = []\n",
    "polygons = []\n",
    "\n",
    "\n",
    "for f in geo_data['features']:\n",
    "\n",
    "    nutscodes.append(f['properties']['nuts318cd'])\n",
    "    nutsnames.append(f['properties']['nuts318nm'])\n",
    "    poly = shape(f['geometry'])\n",
    "    polygons.append(poly)\n",
    "    \n",
    "    #poly = shape(collection['geometry'])\n",
    "    #polygons.append(poly)\n",
    "    "
   ]
  },
  {
   "cell_type": "code",
   "execution_count": 11,
   "metadata": {},
   "outputs": [],
   "source": [
    "areas = [None]*179\n",
    "for i in range(179):\n",
    "    areas[i] = [nutsnames[i], nutscodes[i], polygons[i]]"
   ]
  },
  {
   "cell_type": "code",
   "execution_count": 12,
   "metadata": {},
   "outputs": [
    {
     "name": "stdout",
     "output_type": "stream",
     "text": [
      "[['Hartlepool and Stockton-on-Tees', 'UKC11', <shapely.geometry.multipolygon.MultiPolygon object at 0x0000026AA4FC1BE0>], ['South Teesside', 'UKC12', <shapely.geometry.multipolygon.MultiPolygon object at 0x0000026AD0A45048>], ['Darlington', 'UKC13', <shapely.geometry.polygon.Polygon object at 0x0000026AD0A451D0>], ['Durham CC', 'UKC14', <shapely.geometry.polygon.Polygon object at 0x0000026AD0A452E8>], ['Northumberland', 'UKC21', <shapely.geometry.multipolygon.MultiPolygon object at 0x0000026AD0A45208>], ['Tyneside', 'UKC22', <shapely.geometry.multipolygon.MultiPolygon object at 0x0000026AD0A453C8>], ['Sunderland', 'UKC23', <shapely.geometry.multipolygon.MultiPolygon object at 0x0000026AD0A454E0>], ['West Cumbria', 'UKD11', <shapely.geometry.multipolygon.MultiPolygon object at 0x0000026AD0A45470>], ['East Cumbria', 'UKD12', <shapely.geometry.multipolygon.MultiPolygon object at 0x0000026AD0A45550>], ['Manchester', 'UKD33', <shapely.geometry.polygon.Polygon object at 0x0000026AD0A45668>], ['Greater Manchester South West', 'UKD34', <shapely.geometry.polygon.Polygon object at 0x0000026AD0A450B8>], ['Greater Manchester South East', 'UKD35', <shapely.geometry.polygon.Polygon object at 0x0000026AD0A45630>], ['Greater Manchester North West', 'UKD36', <shapely.geometry.polygon.Polygon object at 0x0000026AD0A45710>], ['Greater Manchester North East', 'UKD37', <shapely.geometry.polygon.Polygon object at 0x0000026AD0A45748>], ['Blackburn with Darwen', 'UKD41', <shapely.geometry.polygon.Polygon object at 0x0000026AD0A45780>], ['Blackpool', 'UKD42', <shapely.geometry.polygon.Polygon object at 0x0000026AD0A457B8>], ['Lancaster and Wyre', 'UKD44', <shapely.geometry.multipolygon.MultiPolygon object at 0x000002699E901A58>], ['Mid Lancashire', 'UKD45', <shapely.geometry.polygon.Polygon object at 0x0000026AD0A45588>], ['East Lancashire', 'UKD46', <shapely.geometry.polygon.Polygon object at 0x0000026AD0A45940>], ['Chorley and West Lancashire', 'UKD47', <shapely.geometry.polygon.Polygon object at 0x0000026AD0A45978>], ['Warrington', 'UKD61', <shapely.geometry.polygon.Polygon object at 0x0000026AD0A459B0>], ['Cheshire East', 'UKD62', <shapely.geometry.polygon.Polygon object at 0x0000026AD0A459E8>], ['Cheshire West and Chester', 'UKD63', <shapely.geometry.multipolygon.MultiPolygon object at 0x0000026AD0A45828>], ['East Merseyside', 'UKD71', <shapely.geometry.multipolygon.MultiPolygon object at 0x0000026AA4FC1828>], ['Liverpool', 'UKD72', <shapely.geometry.polygon.Polygon object at 0x0000026AD0A45860>], ['Sefton', 'UKD73', <shapely.geometry.multipolygon.MultiPolygon object at 0x0000026AD0A45908>], ['Wirral', 'UKD74', <shapely.geometry.multipolygon.MultiPolygon object at 0x0000026AD0A45A20>], ['Kingston upon Hull, City of', 'UKE11', <shapely.geometry.multipolygon.MultiPolygon object at 0x0000026AD0A45A90>], ['East Riding of Yorkshire', 'UKE12', <shapely.geometry.multipolygon.MultiPolygon object at 0x0000026AD0A45B00>], ['North and North East Lincolnshire', 'UKE13', <shapely.geometry.multipolygon.MultiPolygon object at 0x0000026AD0A45B38>], ['York', 'UKE21', <shapely.geometry.polygon.Polygon object at 0x0000026AD0A45AC8>], ['North Yorkshire CC', 'UKE22', <shapely.geometry.multipolygon.MultiPolygon object at 0x0000026AD0A45B70>], ['Barnsley, Doncaster and Rotherham', 'UKE31', <shapely.geometry.polygon.Polygon object at 0x0000026AD0A45BE0>], ['Sheffield', 'UKE32', <shapely.geometry.polygon.Polygon object at 0x0000026AD0A45CC0>], ['Bradford', 'UKE41', <shapely.geometry.polygon.Polygon object at 0x0000026AD0A45CF8>], ['Leeds', 'UKE42', <shapely.geometry.polygon.Polygon object at 0x0000026AD0A45D30>], ['Calderdale and Kirklees', 'UKE44', <shapely.geometry.polygon.Polygon object at 0x0000026AD0A45D68>], ['Wakefield', 'UKE45', <shapely.geometry.polygon.Polygon object at 0x0000026AD0A45DA0>], ['Derby', 'UKF11', <shapely.geometry.polygon.Polygon object at 0x0000026AD0A45DD8>], ['East Derbyshire', 'UKF12', <shapely.geometry.polygon.Polygon object at 0x0000026AD0A45E10>], ['South and West Derbyshire', 'UKF13', <shapely.geometry.polygon.Polygon object at 0x0000026AD0A45E48>], ['Nottingham', 'UKF14', <shapely.geometry.polygon.Polygon object at 0x0000026AD0A45EF0>], ['North Nottinghamshire', 'UKF15', <shapely.geometry.multipolygon.MultiPolygon object at 0x0000026AD0A45BA8>], ['South Nottinghamshire', 'UKF16', <shapely.geometry.polygon.Polygon object at 0x0000026AD0A45F28>], ['Leicester', 'UKF21', <shapely.geometry.polygon.Polygon object at 0x0000026AD0A45F98>], ['Leicestershire CC and Rutland', 'UKF22', <shapely.geometry.polygon.Polygon object at 0x0000026AD0A45FD0>], ['West Northamptonshire', 'UKF24', <shapely.geometry.polygon.Polygon object at 0x0000026AD0A45C88>], ['North Northamptonshire', 'UKF25', <shapely.geometry.polygon.Polygon object at 0x0000026AD0A45F60>], ['Lincolnshire', 'UKF30', <shapely.geometry.multipolygon.MultiPolygon object at 0x0000026AD0A45EB8>], ['Herefordshire, County of', 'UKG11', <shapely.geometry.polygon.Polygon object at 0x0000026AD0A4C128>], ['Worcestershire', 'UKG12', <shapely.geometry.polygon.Polygon object at 0x0000026AD0A4C198>], ['Warwickshire', 'UKG13', <shapely.geometry.polygon.Polygon object at 0x0000026AD0A4C1D0>], ['Telford and Wrekin', 'UKG21', <shapely.geometry.polygon.Polygon object at 0x0000026AD0A4C208>], ['Shropshire CC', 'UKG22', <shapely.geometry.polygon.Polygon object at 0x0000026AD0A4C240>], ['Stoke-on-Trent', 'UKG23', <shapely.geometry.polygon.Polygon object at 0x0000026AD0A4C278>], ['Staffordshire CC', 'UKG24', <shapely.geometry.polygon.Polygon object at 0x0000026AD0A4C2B0>], ['Birmingham', 'UKG31', <shapely.geometry.polygon.Polygon object at 0x0000026AD0A4C2E8>], ['Solihull', 'UKG32', <shapely.geometry.polygon.Polygon object at 0x0000026AD0A4C320>], ['Coventry', 'UKG33', <shapely.geometry.polygon.Polygon object at 0x0000026AD0A4C358>], ['Dudley', 'UKG36', <shapely.geometry.polygon.Polygon object at 0x0000026AD0A4C390>], ['Sandwell', 'UKG37', <shapely.geometry.polygon.Polygon object at 0x0000026AD0A4C3C8>], ['Walsall', 'UKG38', <shapely.geometry.polygon.Polygon object at 0x0000026AD0A4C400>], ['Wolverhampton', 'UKG39', <shapely.geometry.polygon.Polygon object at 0x0000026AD0A4C438>], ['Peterborough', 'UKH11', <shapely.geometry.polygon.Polygon object at 0x0000026AD0A4C470>], ['Cambridgeshire CC', 'UKH12', <shapely.geometry.multipolygon.MultiPolygon object at 0x0000026AD0A4C048>], ['Suffolk', 'UKH14', <shapely.geometry.multipolygon.MultiPolygon object at 0x0000026AD0A4C4A8>], ['Norwich and East Norfolk', 'UKH15', <shapely.geometry.multipolygon.MultiPolygon object at 0x0000026AD0A4C4E0>], ['North and West Norfolk', 'UKH16', <shapely.geometry.multipolygon.MultiPolygon object at 0x0000026AD0A4C0F0>], ['Breckland and South Norfolk', 'UKH17', <shapely.geometry.multipolygon.MultiPolygon object at 0x0000026AD0A4C5F8>], ['Luton', 'UKH21', <shapely.geometry.polygon.Polygon object at 0x0000026AD0A4C668>], ['Hertfordshire', 'UKH23', <shapely.geometry.polygon.Polygon object at 0x0000026AD0A4C6D8>], ['Bedford', 'UKH24', <shapely.geometry.polygon.Polygon object at 0x0000026AD0A4C710>], ['Central Bedfordshire', 'UKH25', <shapely.geometry.polygon.Polygon object at 0x0000026AD0A4C748>], ['Southend-on-Sea', 'UKH31', <shapely.geometry.multipolygon.MultiPolygon object at 0x0000026AD0A4C5C0>], ['Thurrock', 'UKH32', <shapely.geometry.multipolygon.MultiPolygon object at 0x0000026AD0A4C630>], ['Essex Haven Gateway', 'UKH34', <shapely.geometry.multipolygon.MultiPolygon object at 0x0000026AD0A4C550>], ['West Essex', 'UKH35', <shapely.geometry.polygon.Polygon object at 0x0000026AD0A4C898>], ['Heart of Essex', 'UKH36', <shapely.geometry.multipolygon.MultiPolygon object at 0x0000026AD0A4C7F0>], ['Essex Thames Gateway', 'UKH37', <shapely.geometry.multipolygon.MultiPolygon object at 0x0000026AD0A4C940>], ['Camden and City of London', 'UKI31', <shapely.geometry.polygon.Polygon object at 0x0000026AD0A4CA58>], ['Westminster', 'UKI32', <shapely.geometry.polygon.Polygon object at 0x0000026AD0A4CB00>], ['Kensington & Chelsea and Hammersmith & Fulham', 'UKI33', <shapely.geometry.polygon.Polygon object at 0x0000026AD0A4CB38>], ['Wandsworth', 'UKI34', <shapely.geometry.polygon.Polygon object at 0x0000026AD0A4CB70>], ['Hackney and Newham', 'UKI41', <shapely.geometry.multipolygon.MultiPolygon object at 0x0000026AD0A4CA90>], ['Tower Hamlets', 'UKI42', <shapely.geometry.polygon.Polygon object at 0x0000026AD0A4CBA8>], ['Haringey and Islington', 'UKI43', <shapely.geometry.polygon.Polygon object at 0x0000026AD0A4CC18>], ['Lewisham and Southwark', 'UKI44', <shapely.geometry.polygon.Polygon object at 0x0000026AD0A4CC50>], ['Lambeth', 'UKI45', <shapely.geometry.polygon.Polygon object at 0x0000026AD0A4CC88>], ['Bexley and Greenwich', 'UKI51', <shapely.geometry.multipolygon.MultiPolygon object at 0x0000026AD0A4CA20>], ['Barking & Dagenham and Havering', 'UKI52', <shapely.geometry.multipolygon.MultiPolygon object at 0x0000026AD0A4C9E8>], ['Redbridge and Waltham Forest', 'UKI53', <shapely.geometry.polygon.Polygon object at 0x0000026AD0A4CAC8>], ['Enfield', 'UKI54', <shapely.geometry.polygon.Polygon object at 0x0000026AD0A4CD68>], ['Bromley', 'UKI61', <shapely.geometry.polygon.Polygon object at 0x0000026AD0A4CDA0>], ['Croydon', 'UKI62', <shapely.geometry.polygon.Polygon object at 0x0000026AD0A4CDD8>], ['Merton, Kingston upon Thames and Sutton', 'UKI63', <shapely.geometry.polygon.Polygon object at 0x0000026AD0A4CE10>], ['Barnet', 'UKI71', <shapely.geometry.polygon.Polygon object at 0x0000026AD0A4CE48>], ['Brent', 'UKI72', <shapely.geometry.polygon.Polygon object at 0x0000026AD0A4CE80>], ['Ealing', 'UKI73', <shapely.geometry.polygon.Polygon object at 0x0000026AD0A4CEB8>], ['Harrow and Hillingdon', 'UKI74', <shapely.geometry.polygon.Polygon object at 0x0000026AD0A4CEF0>], ['Hounslow and Richmond upon Thames', 'UKI75', <shapely.geometry.multipolygon.MultiPolygon object at 0x0000026AD0A4CCC0>], ['Berkshire', 'UKJ11', <shapely.geometry.polygon.Polygon object at 0x0000026AD0A4CF98>], ['Milton Keynes', 'UKJ12', <shapely.geometry.polygon.Polygon object at 0x0000026AD0A4CCF8>], ['Buckinghamshire CC', 'UKJ13', <shapely.geometry.polygon.Polygon object at 0x0000026AD0A4CF60>], ['Oxfordshire', 'UKJ14', <shapely.geometry.polygon.Polygon object at 0x0000026AD0A510F0>], ['Brighton and Hove', 'UKJ21', <shapely.geometry.polygon.Polygon object at 0x0000026AD0A51128>], ['East Sussex CC', 'UKJ22', <shapely.geometry.multipolygon.MultiPolygon object at 0x0000026AD0A4CFD0>], ['West Surrey', 'UKJ25', <shapely.geometry.polygon.Polygon object at 0x0000026AD0A51048>], ['East Surrey', 'UKJ26', <shapely.geometry.polygon.Polygon object at 0x0000026AD0A511D0>], ['West Sussex (South West)', 'UKJ27', <shapely.geometry.multipolygon.MultiPolygon object at 0x0000026AD0A510B8>], ['West Sussex (North East)', 'UKJ28', <shapely.geometry.multipolygon.MultiPolygon object at 0x0000026AD0A512B0>], ['Portsmouth', 'UKJ31', <shapely.geometry.multipolygon.MultiPolygon object at 0x0000026AD0A51198>], ['Southampton', 'UKJ32', <shapely.geometry.polygon.Polygon object at 0x0000026AD0A51320>], ['Isle of Wight', 'UKJ34', <shapely.geometry.multipolygon.MultiPolygon object at 0x0000026AD0A51240>], ['South Hampshire', 'UKJ35', <shapely.geometry.multipolygon.MultiPolygon object at 0x0000026AD0A51390>], ['Central Hampshire', 'UKJ36', <shapely.geometry.multipolygon.MultiPolygon object at 0x0000026AD0A512E8>], ['North Hampshire', 'UKJ37', <shapely.geometry.polygon.Polygon object at 0x0000026AD0A513C8>], ['Medway', 'UKJ41', <shapely.geometry.multipolygon.MultiPolygon object at 0x0000026AD0A51358>], ['Kent Thames Gateway', 'UKJ43', <shapely.geometry.multipolygon.MultiPolygon object at 0x0000026AD0A51400>], ['East Kent', 'UKJ44', <shapely.geometry.multipolygon.MultiPolygon object at 0x0000026AD0A51550>], ['Mid Kent', 'UKJ45', <shapely.geometry.polygon.Polygon object at 0x0000026AD0A514E0>], ['West Kent', 'UKJ46', <shapely.geometry.multipolygon.MultiPolygon object at 0x0000026AD0A51518>], ['Bristol, City of', 'UKK11', <shapely.geometry.multipolygon.MultiPolygon object at 0x0000026AD0A515C0>], ['Bath and North East Somerset, North Somerset and South Gloucestershire', 'UKK12', <shapely.geometry.multipolygon.MultiPolygon object at 0x0000026AD0A514A8>], ['Gloucestershire', 'UKK13', <shapely.geometry.polygon.Polygon object at 0x0000026AD0A515F8>], ['Swindon', 'UKK14', <shapely.geometry.polygon.Polygon object at 0x0000026AD0A516D8>], ['Wiltshire', 'UKK15', <shapely.geometry.polygon.Polygon object at 0x0000026AD0A51710>], ['Bournemouth and Poole', 'UKK21', <shapely.geometry.multipolygon.MultiPolygon object at 0x0000026AD0A51630>], ['Dorset CC', 'UKK22', <shapely.geometry.multipolygon.MultiPolygon object at 0x0000026AD0A51748>], ['Somerset', 'UKK23', <shapely.geometry.multipolygon.MultiPolygon object at 0x0000026AD0A517B8>], ['Cornwall and Isles of Scilly', 'UKK30', <shapely.geometry.multipolygon.MultiPolygon object at 0x0000026AD0A517F0>], ['Plymouth', 'UKK41', <shapely.geometry.multipolygon.MultiPolygon object at 0x0000026AD0A518D0>], ['Torbay', 'UKK42', <shapely.geometry.multipolygon.MultiPolygon object at 0x0000026AD0A51978>], ['Devon CC', 'UKK43', <shapely.geometry.multipolygon.MultiPolygon object at 0x0000026AD0A51940>], ['Isle of Anglesey', 'UKL11', <shapely.geometry.multipolygon.MultiPolygon object at 0x0000026AD0A519E8>], ['Gwynedd', 'UKL12', <shapely.geometry.multipolygon.MultiPolygon object at 0x0000026AD0A51A90>], ['Conwy and Denbighshire', 'UKL13', <shapely.geometry.multipolygon.MultiPolygon object at 0x0000026AD0A51B38>], ['South West Wales', 'UKL14', <shapely.geometry.multipolygon.MultiPolygon object at 0x0000026AD0A51BA8>], ['Central Valleys', 'UKL15', <shapely.geometry.polygon.Polygon object at 0x0000026AD0A51C18>], ['Gwent Valleys', 'UKL16', <shapely.geometry.polygon.Polygon object at 0x0000026AD0A51D30>], ['Bridgend and Neath Port Talbot', 'UKL17', <shapely.geometry.polygon.Polygon object at 0x0000026AD0A51D68>], ['Swansea', 'UKL18', <shapely.geometry.multipolygon.MultiPolygon object at 0x0000026AD0A51C50>], ['Monmouthshire and Newport', 'UKL21', <shapely.geometry.multipolygon.MultiPolygon object at 0x0000026AD0A51DD8>], ['Cardiff and Vale of Glamorgan', 'UKL22', <shapely.geometry.multipolygon.MultiPolygon object at 0x0000026AD0A51E48>], ['Flintshire and Wrexham', 'UKL23', <shapely.geometry.multipolygon.MultiPolygon object at 0x0000026AD0A51E10>], ['Powys', 'UKL24', <shapely.geometry.polygon.Polygon object at 0x0000026AD0A51EF0>], ['Aberdeen City and Aberdeenshire', 'UKM50', <shapely.geometry.multipolygon.MultiPolygon object at 0x0000026AD0A51E80>], ['Caithness & Sutherland and Ross & Cromarty', 'UKM61', <shapely.geometry.multipolygon.MultiPolygon object at 0x0000026AD0A51FD0>], ['Inverness & Nairn and Moray, Badenoch & Strathspey', 'UKM62', <shapely.geometry.multipolygon.MultiPolygon object at 0x0000026AD0A56128>], ['Lochaber, Skye & Lochalsh, Arran & Cumbrae and Argyll & Bute', 'UKM63', <shapely.geometry.multipolygon.MultiPolygon object at 0x0000026AD0A56160>], ['Na h-Eileanan Siar (Western Isles)', 'UKM64', <shapely.geometry.multipolygon.MultiPolygon object at 0x0000026AD0A561D0>], ['Orkney Islands', 'UKM65', <shapely.geometry.multipolygon.MultiPolygon object at 0x0000026AD0A562B0>], ['Shetland Islands', 'UKM66', <shapely.geometry.multipolygon.MultiPolygon object at 0x0000026AD0A56358>], ['Angus and Dundee City', 'UKM71', <shapely.geometry.multipolygon.MultiPolygon object at 0x0000026AD0A56438>], ['Clackmannanshire and Fife', 'UKM72', <shapely.geometry.multipolygon.MultiPolygon object at 0x0000026AD0A564A8>], ['East Lothian and Midlothian', 'UKM73', <shapely.geometry.multipolygon.MultiPolygon object at 0x0000026AD0A56588>], ['Edinburgh, City of', 'UKM75', <shapely.geometry.multipolygon.MultiPolygon object at 0x0000026AD0A56518>], ['Falkirk', 'UKM76', <shapely.geometry.polygon.Polygon object at 0x0000026AD0A56470>], ['Perth & Kinross and Stirling', 'UKM77', <shapely.geometry.multipolygon.MultiPolygon object at 0x0000026AD0A565F8>], ['West Lothian', 'UKM78', <shapely.geometry.polygon.Polygon object at 0x0000026AD0A56630>], ['East Dunbartonshire, West Dunbartonshire and Helensburgh & Lomond', 'UKM81', <shapely.geometry.polygon.Polygon object at 0x0000026AD0A566D8>], ['Glasgow City', 'UKM82', <shapely.geometry.multipolygon.MultiPolygon object at 0x0000026AD0A56550>], ['Inverclyde, East Renfrewshire and Renfrewshire', 'UKM83', <shapely.geometry.polygon.Polygon object at 0x0000026AD0A56710>], ['North Lanarkshire', 'UKM84', <shapely.geometry.polygon.Polygon object at 0x0000026AD0A56780>], ['Scottish Borders', 'UKM91', <shapely.geometry.multipolygon.MultiPolygon object at 0x0000026AD0A56668>], ['Dumfries & Galloway', 'UKM92', <shapely.geometry.multipolygon.MultiPolygon object at 0x0000026AD0A565C0>], ['East Ayrshire and North Ayrshire mainland', 'UKM93', <shapely.geometry.multipolygon.MultiPolygon object at 0x0000026AD0A56860>], ['South Ayrshire', 'UKM94', <shapely.geometry.multipolygon.MultiPolygon object at 0x0000026AD0A567F0>], ['South Lanarkshire', 'UKM95', <shapely.geometry.polygon.Polygon object at 0x0000026AD0A56908>], ['Belfast', 'UKN06', <shapely.geometry.polygon.Polygon object at 0x0000026AD0A56978>], ['Armagh City, Banbridge and Craigavon', 'UKN07', <shapely.geometry.polygon.Polygon object at 0x0000026AD0A569B0>], ['Newry, Mourne and Down', 'UKN08', <shapely.geometry.polygon.Polygon object at 0x0000026AD0A569E8>], ['Ards and North Down', 'UKN09', <shapely.geometry.multipolygon.MultiPolygon object at 0x0000026AD0A56828>], ['Derry City and Strabane', 'UKN10', <shapely.geometry.polygon.Polygon object at 0x0000026AD0A56940>], ['Mid Ulster', 'UKN11', <shapely.geometry.polygon.Polygon object at 0x0000026AD0A56A90>], ['Causeway Coast and Glens', 'UKN12', <shapely.geometry.multipolygon.MultiPolygon object at 0x0000026AD0A56A20>], ['Antrim and Newtownabbey', 'UKN13', <shapely.geometry.polygon.Polygon object at 0x0000026AD0A56AC8>], ['Lisburn and Castlereagh', 'UKN14', <shapely.geometry.polygon.Polygon object at 0x0000026AD0A56B38>], ['Mid and East Antrim', 'UKN15', <shapely.geometry.polygon.Polygon object at 0x0000026AD0A56B70>], ['Fermanagh and Omagh', 'UKN16', <shapely.geometry.polygon.Polygon object at 0x0000026AD0A56BA8>]]\n"
     ]
    }
   ],
   "source": [
    "print(areas)"
   ]
  },
  {
   "cell_type": "code",
   "execution_count": 13,
   "metadata": {},
   "outputs": [],
   "source": [
    "job_loc_pairs = [None]*len(locs)"
   ]
  },
  {
   "cell_type": "code",
   "execution_count": 21,
   "metadata": {},
   "outputs": [
    {
     "name": "stdout",
     "output_type": "stream",
     "text": [
      "added box type\n",
      "added country type\n",
      "added pt type\n",
      "{'box': 3113730, 'country': 848, 'pt': 34}\n",
      "Wall time: 591 ms\n"
     ]
    }
   ],
   "source": [
    "%%time\n",
    "# count the number oof entries of each type\n",
    "types = {}\n",
    "for value in values:\n",
    "    try:\n",
    "        types[value[0]] = types[value[0]]+1\n",
    "        \n",
    "    except:\n",
    "        types[value[0]] = 1\n",
    "        print(\"added \"+ value[0]+\" type\")\n",
    "print(types)"
   ]
  },
  {
   "cell_type": "code",
   "execution_count": 14,
   "metadata": {},
   "outputs": [
    {
     "name": "stdout",
     "output_type": "stream",
     "text": [
      "100000 entries parsed\n",
      "200000 entries parsed\n",
      "300000 entries parsed\n",
      "400000 entries parsed\n",
      "500000 entries parsed\n"
     ]
    },
    {
     "ename": "KeyboardInterrupt",
     "evalue": "",
     "output_type": "error",
     "traceback": [
      "\u001b[1;31m---------------------------------------------------------------------------\u001b[0m",
      "\u001b[1;31mKeyboardInterrupt\u001b[0m                         Traceback (most recent call last)",
      "\u001b[1;32m<timed exec>\u001b[0m in \u001b[0;36m<module>\u001b[1;34m\u001b[0m\n",
      "\u001b[1;32m~\\Anaconda3\\lib\\site-packages\\shapely\\geometry\\base.py\u001b[0m in \u001b[0;36mcontains\u001b[1;34m(self, other)\u001b[0m\n\u001b[0;32m    718\u001b[0m     \u001b[1;32mdef\u001b[0m \u001b[0mcontains\u001b[0m\u001b[1;33m(\u001b[0m\u001b[0mself\u001b[0m\u001b[1;33m,\u001b[0m \u001b[0mother\u001b[0m\u001b[1;33m)\u001b[0m\u001b[1;33m:\u001b[0m\u001b[1;33m\u001b[0m\u001b[1;33m\u001b[0m\u001b[0m\n\u001b[0;32m    719\u001b[0m         \u001b[1;34m\"\"\"Returns True if the geometry contains the other, else False\"\"\"\u001b[0m\u001b[1;33m\u001b[0m\u001b[1;33m\u001b[0m\u001b[0m\n\u001b[1;32m--> 720\u001b[1;33m         \u001b[1;32mreturn\u001b[0m \u001b[0mbool\u001b[0m\u001b[1;33m(\u001b[0m\u001b[0mself\u001b[0m\u001b[1;33m.\u001b[0m\u001b[0mimpl\u001b[0m\u001b[1;33m[\u001b[0m\u001b[1;34m'contains'\u001b[0m\u001b[1;33m]\u001b[0m\u001b[1;33m(\u001b[0m\u001b[0mself\u001b[0m\u001b[1;33m,\u001b[0m \u001b[0mother\u001b[0m\u001b[1;33m)\u001b[0m\u001b[1;33m)\u001b[0m\u001b[1;33m\u001b[0m\u001b[1;33m\u001b[0m\u001b[0m\n\u001b[0m\u001b[0;32m    721\u001b[0m \u001b[1;33m\u001b[0m\u001b[0m\n\u001b[0;32m    722\u001b[0m     \u001b[1;32mdef\u001b[0m \u001b[0mcrosses\u001b[0m\u001b[1;33m(\u001b[0m\u001b[0mself\u001b[0m\u001b[1;33m,\u001b[0m \u001b[0mother\u001b[0m\u001b[1;33m)\u001b[0m\u001b[1;33m:\u001b[0m\u001b[1;33m\u001b[0m\u001b[1;33m\u001b[0m\u001b[0m\n",
      "\u001b[1;32m~\\Anaconda3\\lib\\site-packages\\shapely\\predicates.py\u001b[0m in \u001b[0;36m__call__\u001b[1;34m(self, this, other, *args)\u001b[0m\n\u001b[0;32m     13\u001b[0m         \u001b[0mself\u001b[0m\u001b[1;33m.\u001b[0m\u001b[0m_validate\u001b[0m\u001b[1;33m(\u001b[0m\u001b[0mother\u001b[0m\u001b[1;33m,\u001b[0m \u001b[0mstop_prepared\u001b[0m\u001b[1;33m=\u001b[0m\u001b[1;32mTrue\u001b[0m\u001b[1;33m)\u001b[0m\u001b[1;33m\u001b[0m\u001b[1;33m\u001b[0m\u001b[0m\n\u001b[0;32m     14\u001b[0m         \u001b[1;32mtry\u001b[0m\u001b[1;33m:\u001b[0m\u001b[1;33m\u001b[0m\u001b[1;33m\u001b[0m\u001b[0m\n\u001b[1;32m---> 15\u001b[1;33m             \u001b[1;32mreturn\u001b[0m \u001b[0mself\u001b[0m\u001b[1;33m.\u001b[0m\u001b[0mfn\u001b[0m\u001b[1;33m(\u001b[0m\u001b[0mthis\u001b[0m\u001b[1;33m.\u001b[0m\u001b[0m_geom\u001b[0m\u001b[1;33m,\u001b[0m \u001b[0mother\u001b[0m\u001b[1;33m.\u001b[0m\u001b[0m_geom\u001b[0m\u001b[1;33m,\u001b[0m \u001b[1;33m*\u001b[0m\u001b[0margs\u001b[0m\u001b[1;33m)\u001b[0m\u001b[1;33m\u001b[0m\u001b[1;33m\u001b[0m\u001b[0m\n\u001b[0m\u001b[0;32m     16\u001b[0m         \u001b[1;32mexcept\u001b[0m \u001b[0mPredicateError\u001b[0m \u001b[1;32mas\u001b[0m \u001b[0merr\u001b[0m\u001b[1;33m:\u001b[0m\u001b[1;33m\u001b[0m\u001b[1;33m\u001b[0m\u001b[0m\n\u001b[0;32m     17\u001b[0m             \u001b[1;31m# Dig deeper into causes of errors.\u001b[0m\u001b[1;33m\u001b[0m\u001b[1;33m\u001b[0m\u001b[1;33m\u001b[0m\u001b[0m\n",
      "\u001b[1;32m~\\Anaconda3\\lib\\site-packages\\shapely\\geos.py\u001b[0m in \u001b[0;36merrcheck_predicate\u001b[1;34m(result, func, argtuple)\u001b[0m\n\u001b[0;32m    575\u001b[0m \u001b[1;33m\u001b[0m\u001b[0m\n\u001b[0;32m    576\u001b[0m \u001b[1;33m\u001b[0m\u001b[0m\n\u001b[1;32m--> 577\u001b[1;33m \u001b[1;32mdef\u001b[0m \u001b[0merrcheck_predicate\u001b[0m\u001b[1;33m(\u001b[0m\u001b[0mresult\u001b[0m\u001b[1;33m,\u001b[0m \u001b[0mfunc\u001b[0m\u001b[1;33m,\u001b[0m \u001b[0margtuple\u001b[0m\u001b[1;33m)\u001b[0m\u001b[1;33m:\u001b[0m\u001b[1;33m\u001b[0m\u001b[1;33m\u001b[0m\u001b[0m\n\u001b[0m\u001b[0;32m    578\u001b[0m     \u001b[1;34m\"\"\"Result is 2 on exception, 1 on True, 0 on False\"\"\"\u001b[0m\u001b[1;33m\u001b[0m\u001b[1;33m\u001b[0m\u001b[0m\n\u001b[0;32m    579\u001b[0m     \u001b[1;32mif\u001b[0m \u001b[0mresult\u001b[0m \u001b[1;33m==\u001b[0m \u001b[1;36m2\u001b[0m\u001b[1;33m:\u001b[0m\u001b[1;33m\u001b[0m\u001b[1;33m\u001b[0m\u001b[0m\n",
      "\u001b[1;31mKeyboardInterrupt\u001b[0m: "
     ]
    }
   ],
   "source": [
    "%%time\n",
    "i=0\n",
    "\n",
    "for loc in locs:\n",
    "    pt = Point(loc[1][::-1])\n",
    "    code = 'NA'\n",
    "    name = 'NA'\n",
    "    for area in areas:\n",
    "        if area[2].contains(pt):\n",
    "            code = area[1]\n",
    "            name = area[0]\n",
    "    job_loc_pairs[i] = {'jobid':loc[0], 'nutsCode':code, 'nutsName': name}\n",
    "    i+=1\n",
    "    if i %100000 == 0:\n",
    "            print(i,\"entries parsed\")"
   ]
  },
  {
   "cell_type": "code",
   "execution_count": null,
   "metadata": {},
   "outputs": [],
   "source": []
  },
  {
   "cell_type": "code",
   "execution_count": 18,
   "metadata": {},
   "outputs": [],
   "source": [
    "# connect to the database\n",
    "engine_new = alch.create_engine('sqlite:///jobs_nutscodes_names_v3.db', echo=False)"
   ]
  },
  {
   "cell_type": "code",
   "execution_count": 19,
   "metadata": {},
   "outputs": [],
   "source": [
    "metadata = alch.MetaData()\n",
    "jobs = alch.Table('jobs', metadata,\n",
    "              alch.Column('jobid', alch.Integer, primary_key=True),\n",
    "              alch.Column('nutsCode', alch.String(5)),\n",
    "              alch.Column('nutsName', alch.String(64))\n",
    "             )\n",
    "metadata.create_all(engine_new)"
   ]
  },
  {
   "cell_type": "code",
   "execution_count": 20,
   "metadata": {},
   "outputs": [],
   "source": [
    "conn = engine_new.connect()"
   ]
  },
  {
   "cell_type": "code",
   "execution_count": 21,
   "metadata": {},
   "outputs": [
    {
     "name": "stdout",
     "output_type": "stream",
     "text": [
      "Wall time: 1min 30s\n"
     ]
    },
    {
     "data": {
      "text/plain": [
       "<sqlalchemy.engine.result.ResultProxy at 0x1f096b03978>"
      ]
     },
     "execution_count": 21,
     "metadata": {},
     "output_type": "execute_result"
    }
   ],
   "source": [
    "%%time\n",
    "conn.execute(jobs.insert(), job_loc_pairs)"
   ]
  },
  {
   "cell_type": "code",
   "execution_count": null,
   "metadata": {},
   "outputs": [],
   "source": []
  }
 ],
 "metadata": {
  "kernelspec": {
   "display_name": "Python 3",
   "language": "python",
   "name": "python3"
  },
  "language_info": {
   "codemirror_mode": {
    "name": "ipython",
    "version": 3
   },
   "file_extension": ".py",
   "mimetype": "text/x-python",
   "name": "python",
   "nbconvert_exporter": "python",
   "pygments_lexer": "ipython3",
   "version": "3.7.1"
  }
 },
 "nbformat": 4,
 "nbformat_minor": 2
}
