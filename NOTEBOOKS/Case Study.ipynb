{
 "cells": [
  {
   "cell_type": "code",
   "execution_count": 1,
   "metadata": {},
   "outputs": [],
   "source": [
    "import os, json\n",
    "import pandas as pd\n",
    "import timeit\n",
    "import sqlalchemy as alch\n",
    "import numpy as np\n",
    "from datetime import datetime\n",
    "import matplotlib.pyplot as plt\n",
    "import matplotlib.dates as mdates\n",
    "from collections import Counter\n",
    "import matplotlib as mpl\n",
    "mpl.rcParams['figure.dpi'] = 600\n",
    "plt.rcParams.update({'font.size': 22})"
   ]
  },
  {
   "cell_type": "code",
   "execution_count": 2,
   "metadata": {},
   "outputs": [],
   "source": [
    "#SETUP PARAMETERS\n",
    "topicId = '19'\n",
    "topicName = 'Care Assistance and Nursing'"
   ]
  },
  {
   "cell_type": "code",
   "execution_count": 3,
   "metadata": {},
   "outputs": [],
   "source": [
    "# CONNECT TO DB\n",
    "engine = alch.create_engine('sqlite:///jobs.db', echo=False)"
   ]
  },
  {
   "cell_type": "code",
   "execution_count": 4,
   "metadata": {},
   "outputs": [
    {
     "name": "stdout",
     "output_type": "stream",
     "text": [
      "3299995\n",
      "Wall time: 1.24 s\n"
     ]
    }
   ],
   "source": [
    "%%time\n",
    "with engine.connect() as connection:\n",
    "    result = connection.execute(\"select count(*) from \\\"main\\\".\\\"jobs.db\\\" \")\n",
    "    number_of_rows = result.first()[0]\n",
    "print(number_of_rows)"
   ]
  },
  {
   "cell_type": "code",
   "execution_count": 5,
   "metadata": {},
   "outputs": [],
   "source": [
    "engine2 = alch.create_engine('sqlite:///jobs_LDA_20.db', echo=False)"
   ]
  },
  {
   "cell_type": "code",
   "execution_count": 6,
   "metadata": {},
   "outputs": [
    {
     "name": "stdout",
     "output_type": "stream",
     "text": [
      "212829\n",
      "Wall time: 345 ms\n"
     ]
    }
   ],
   "source": [
    "%%time\n",
    "with engine2.connect() as connection:\n",
    "    result = connection.execute(\"select count(*) from jobs WHERE jobTopic = \"+topicId)\n",
    "    number_of_rows = result.first()[0]\n",
    "print(number_of_rows)"
   ]
  },
  {
   "cell_type": "code",
   "execution_count": 7,
   "metadata": {},
   "outputs": [
    {
     "name": "stdout",
     "output_type": "stream",
     "text": [
      "[37000016, 37000026, 37000038, 37000074, 37000080, 37000115, 37000128, 37000168, 37000223, 37000229]\n",
      "Wall time: 699 ms\n"
     ]
    }
   ],
   "source": [
    "%%time\n",
    "ads = [None]*number_of_rows\n",
    "i=0\n",
    "with engine2.connect() as connection:\n",
    "    result = connection.execute(\"select jobId from jobs WHERE jobTopic = \"+topicId)\n",
    "    for row in result:\n",
    "        ads[i] = row[0]\n",
    "        i+=1\n",
    "print(ads[:10])"
   ]
  },
  {
   "cell_type": "code",
   "execution_count": 8,
   "metadata": {},
   "outputs": [],
   "source": [
    "dates_posted = np.array([None]*number_of_rows)\n",
    "expiry_dates = np.array([None]*number_of_rows)\n",
    "yearly_salaries = np.array([None]*number_of_rows)"
   ]
  },
  {
   "cell_type": "code",
   "execution_count": null,
   "metadata": {},
   "outputs": [
    {
     "name": "stdout",
     "output_type": "stream",
     "text": [
      "100000 rows processed\n",
      "200000 rows processed\n",
      "300000 rows processed\n",
      "400000 rows processed\n",
      "500000 rows processed\n",
      "600000 rows processed\n",
      "700000 rows processed\n",
      "800000 rows processed\n",
      "900000 rows processed\n",
      "1000000 rows processed\n",
      "1100000 rows processed\n",
      "1200000 rows processed\n",
      "1300000 rows processed\n",
      "1400000 rows processed\n",
      "1500000 rows processed\n",
      "1600000 rows processed\n",
      "1700000 rows processed\n",
      "1800000 rows processed\n",
      "1900000 rows processed\n",
      "2000000 rows processed\n",
      "2100000 rows processed\n",
      "2200000 rows processed\n",
      "2300000 rows processed\n",
      "2400000 rows processed\n",
      "2500000 rows processed\n",
      "2600000 rows processed\n",
      "2700000 rows processed\n",
      "2800000 rows processed\n",
      "2900000 rows processed\n"
     ]
    }
   ],
   "source": [
    "%%time\n",
    "# PROCESS ROWS TO GET DATES\n",
    "with engine.connect() as connection:\n",
    "    result = connection.execute(\"select jobId, datePosted, yearlyMaximumSalary, currency from \\\"main\\\".\\\"jobs.db\\\"\")\n",
    "    i = 0\n",
    "    j = 0\n",
    "    nones = 0\n",
    "    for row in result:\n",
    "\n",
    "        if (row[0] == str(ads[j])):\n",
    "            try:\n",
    "                dates_posted[j] = datetime.strptime(row[1],\"%d/%m/%Y\")\n",
    "            except:\n",
    "                dates_posted[j] = None\n",
    "                nones+=1\n",
    "                \n",
    "            yearly_salaries[j] = row[2] if row[3] == 'GBP' else None\n",
    "            j+=1    \n",
    "            if j==number_of_rows:\n",
    "                break\n",
    "        i+=1  \n",
    "        if i % 100000 == 0:\n",
    "            print(i,\"rows processed\")"
   ]
  },
  {
   "cell_type": "code",
   "execution_count": null,
   "metadata": {},
   "outputs": [],
   "source": [
    "dates_posted_filtered = [None]*(number_of_rows-nones)"
   ]
  },
  {
   "cell_type": "code",
   "execution_count": null,
   "metadata": {},
   "outputs": [],
   "source": [
    "c=0\n",
    "for i in range(len(dates_posted)):\n",
    "    if dates_posted[i] != None:\n",
    "        dates_posted_filtered[c] = dates_posted[i]\n",
    "        c+=1"
   ]
  },
  {
   "cell_type": "code",
   "execution_count": null,
   "metadata": {},
   "outputs": [],
   "source": [
    "print(dates_posted[:10])"
   ]
  },
  {
   "cell_type": "code",
   "execution_count": null,
   "metadata": {},
   "outputs": [],
   "source": [
    "%%time\n",
    "days = Counter(dates_posted).keys() \n",
    "posts = Counter(dates_posted).values()"
   ]
  },
  {
   "cell_type": "code",
   "execution_count": null,
   "metadata": {},
   "outputs": [],
   "source": [
    "# PLOT\n",
    "fig = plt.figure(figsize=(20,15))\n",
    "ax = plt.gca()\n",
    "fig.autofmt_xdate()\n",
    "\n",
    "#formatter = mdates.DateFormatter(\"%Y-%m-%d\")\n",
    "ax.xaxis.set_major_formatter(formatter)\n",
    "locator = mdates.MonthLocator()\n",
    "ax.xaxis.set_major_locator(locator)\n",
    "plt.title(\"Job adverts posted to Reed per day in \"+topicName)\n",
    "plt.xlabel(\"Date\")\n",
    "plt.ylabel(\"Number of jobs posted\")\n",
    "plt.plot(list(days), list(posts))"
   ]
  },
  {
   "cell_type": "code",
   "execution_count": null,
   "metadata": {},
   "outputs": [],
   "source": [
    "# We will now redo the calculations with a weekly total instead of a daily value\n",
    "print(dates_posted[78])"
   ]
  },
  {
   "cell_type": "code",
   "execution_count": null,
   "metadata": {},
   "outputs": [],
   "source": [
    "print(dates_posted[0].weekday())"
   ]
  },
  {
   "cell_type": "code",
   "execution_count": null,
   "metadata": {},
   "outputs": [],
   "source": [
    "# array to hold the weekly total\n",
    "weekly_totals = []\n",
    "# array to hold the daily counts\n",
    "daily_totals = [0,0,0,0,0,0,0]\n",
    "# array to hold the datetime objects for each end of week\n",
    "weeks = []\n",
    "# find out what weekday the first day is\n",
    "w=dates_posted[0].weekday()\n",
    "\n",
    "# initialise the running total\n",
    "running_total = 0\n",
    "\n",
    "# for every day, add the daily posts to the running total, if sunday add to the weekly total and then reset the day counter\n",
    "c = 0\n",
    "for i in posts: \n",
    "    running_total = running_total + i\n",
    "    daily_totals[w] = daily_totals[w] + i\n",
    "    c+=1\n",
    "    if w==6:\n",
    "        w=0\n",
    "        weekly_totals.append(running_total)\n",
    "        weeks.append(list(days)[c])\n",
    "        running_total = 0\n",
    "    else:\n",
    "        w+=1\n",
    "    "
   ]
  },
  {
   "cell_type": "code",
   "execution_count": null,
   "metadata": {},
   "outputs": [],
   "source": [
    "print(len(weekly_totals))\n",
    "print(daily_totals)\n",
    "print(len(weeks))\n",
    "print(list(days)[0])"
   ]
  },
  {
   "cell_type": "code",
   "execution_count": null,
   "metadata": {},
   "outputs": [],
   "source": [
    "weeks = weeks[1:]\n",
    "weekly_totals = weekly_totals[1:]\n",
    "\n",
    "series = pd.Series(weekly_totals)\n",
    "rolling_window = series.rolling(4)\n",
    "rolling_average = rolling_window.mean()\n",
    "weekly_rolling = rolling_average.tolist()\n",
    "#weekly_rolling[0]= weekly_rolling[3]\n",
    "#weekly_rolling[1]= weekly_rolling[3]\n",
    "#weekly_rolling[2]= weekly_rolling[3]"
   ]
  },
  {
   "cell_type": "code",
   "execution_count": null,
   "metadata": {},
   "outputs": [],
   "source": [
    "fig = plt.figure(figsize=(20,15))\n",
    "ax = plt.gca()\n",
    "fig.autofmt_xdate()\n",
    "\n",
    "#formatter = mdates.DateFormatter(\"%Y-%m-%d\")\n",
    "ax.xaxis.set_major_formatter(formatter)\n",
    "locator = mdates.MonthLocator()\n",
    "ax.xaxis.set_major_locator(locator)\n",
    "plt.title(\"Job adverts posted to Reed per week in \"+topicName)\n",
    "plt.xlabel(\"Date\")\n",
    "plt.ylabel(\"Number of jobs posted\")\n",
    "plt.plot(weeks, weekly_totals, label='Weekly total')\n",
    "plt.plot(weeks, weekly_rolling, label='Rolling average over 4 weeks')\n",
    "plt.legend(fontsize='xx-large',loc=3)"
   ]
  },
  {
   "cell_type": "code",
   "execution_count": null,
   "metadata": {},
   "outputs": [],
   "source": [
    "fig = plt.figure(figsize=(10,7.5))\n",
    "x = ['Monday','Tuesday','Wednesday','Thursday','Friday','Saturday','Sunday']\n",
    "x_pos = [i for i, _ in enumerate(x)]\n",
    "\n",
    "plt.bar(x_pos, daily_totals)\n",
    "plt.xlabel(\"Day of the Week\")\n",
    "plt.ylabel(\"Number of ads posted\")\n",
    "plt.title(\"Total ads posted for each day of the week in \"+topicName)\n",
    "\n",
    "plt.xticks(x_pos, x)\n",
    "\n",
    "plt.show()"
   ]
  },
  {
   "cell_type": "code",
   "execution_count": null,
   "metadata": {},
   "outputs": [],
   "source": [
    "%%time\n",
    "nonGBP=0\n",
    "total=0\n",
    "lowest =  float('inf') \n",
    "highest =  float('-inf') \n",
    "\n",
    "\n",
    "for i in range(number_of_rows):\n",
    "    if yearly_salaries[i] == None or yearly_salaries[i] < 1000 or yearly_salaries[i] > 5000000:\n",
    "        nonGBP +=1\n",
    "    else:\n",
    "        total+=yearly_salaries[i]\n",
    "        if yearly_salaries[i] > highest:\n",
    "            highest = yearly_salaries[i]\n",
    "        if yearly_salaries[i] < lowest:\n",
    "            lowest = yearly_salaries[i]  \n",
    "            \n",
    "            \n",
    "average_salary = total/(number_of_rows - nonGBP)\n",
    "print(\"Average Salary: \" +str(average_salary))\n",
    "print(\"Highest Salary: \" +str(highest))\n",
    "print(\"Lowest Salary: \" +str(lowest))"
   ]
  },
  {
   "cell_type": "code",
   "execution_count": null,
   "metadata": {},
   "outputs": [],
   "source": [
    "data = np.array([None]*(number_of_rows-nonGBP))\n",
    "j = 0\n",
    "for i in range(number_of_rows):\n",
    "    if yearly_salaries[i] == None or yearly_salaries[i] < 1000 or yearly_salaries[i] > 5000000:\n",
    "        pass\n",
    "    else:\n",
    "        data[j] = yearly_salaries[i]\n",
    "        j+=1\n",
    "            "
   ]
  },
  {
   "cell_type": "code",
   "execution_count": null,
   "metadata": {},
   "outputs": [],
   "source": [
    "print(data)"
   ]
  },
  {
   "cell_type": "code",
   "execution_count": null,
   "metadata": {},
   "outputs": [],
   "source": [
    "def is_outlier(points, thresh=3.5):\n",
    "    points = np.array(points)\n",
    "    \"\"\"\n",
    "    Returns a boolean array with True if points are outliers and False \n",
    "    otherwise.\n",
    "\n",
    "    Parameters:\n",
    "    -----------\n",
    "        points : An numobservations by numdimensions array of observations\n",
    "        thresh : The modified z-score to use as a threshold. Observations with\n",
    "            a modified z-score (based on the median absolute deviation) greater\n",
    "            than this value will be classified as outliers.\n",
    "\n",
    "    Returns:\n",
    "    --------\n",
    "        mask : A numobservations-length boolean array.\n",
    "\n",
    "    References:\n",
    "    ----------\n",
    "        Boris Iglewicz and David Hoaglin (1993), \"Volume 16: How to Detect and\n",
    "        Handle Outliers\", The ASQC Basic References in Quality Control:\n",
    "        Statistical Techniques, Edward F. Mykytka, Ph.D., Editor. \n",
    "    \"\"\"\n",
    "    if len(points.shape) == 1:\n",
    "        points = points[:,None]\n",
    "    median = np.median(points, axis=0)\n",
    "    diff = np.sum((points - median)**2, axis=-1)\n",
    "    diff = np.sqrt(diff.astype(float))\n",
    "    med_abs_deviation = np.median(diff)\n",
    "\n",
    "    modified_z_score = 0.6745 * diff / med_abs_deviation\n",
    "\n",
    "    return modified_z_score > thresh"
   ]
  },
  {
   "cell_type": "code",
   "execution_count": null,
   "metadata": {},
   "outputs": [],
   "source": [
    "filtered = data[~is_outlier(data)]"
   ]
  },
  {
   "cell_type": "code",
   "execution_count": null,
   "metadata": {},
   "outputs": [],
   "source": [
    "fig = plt.figure(figsize=(10,7.5))\n",
    "plt.hist(filtered, bins=20)\n",
    "plt.xlabel(\"Yearly salary in £\")\n",
    "plt.ylabel(\"Number of ads posted\")\n",
    "plt.title(\"Histogram of yearly salaries in \"+topicName)\n",
    "plt.axvline(average_salary, color='r', linestyle='dashed', linewidth=1)\n",
    "plt.show()"
   ]
  },
  {
   "cell_type": "code",
   "execution_count": null,
   "metadata": {},
   "outputs": [],
   "source": []
  },
  {
   "cell_type": "code",
   "execution_count": null,
   "metadata": {},
   "outputs": [],
   "source": []
  },
  {
   "cell_type": "code",
   "execution_count": null,
   "metadata": {},
   "outputs": [],
   "source": []
  }
 ],
 "metadata": {
  "kernelspec": {
   "display_name": "Python 3",
   "language": "python",
   "name": "python3"
  },
  "language_info": {
   "codemirror_mode": {
    "name": "ipython",
    "version": 3
   },
   "file_extension": ".py",
   "mimetype": "text/x-python",
   "name": "python",
   "nbconvert_exporter": "python",
   "pygments_lexer": "ipython3",
   "version": "3.7.1"
  }
 },
 "nbformat": 4,
 "nbformat_minor": 2
}
