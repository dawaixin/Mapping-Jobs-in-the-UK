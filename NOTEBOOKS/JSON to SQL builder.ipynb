{
 "cells": [
  {
   "cell_type": "markdown",
   "metadata": {},
   "source": [
    "This notebook is used to convert the large number of job adverts in JSON format into a single cohesive database that can be exploited, in SQL format."
   ]
  },
  {
   "cell_type": "code",
   "execution_count": null,
   "metadata": {},
   "outputs": [],
   "source": [
    "import os, json\n",
    "import pandas as pd\n",
    "import timeit\n",
    "import sqlalchemy as alch"
   ]
  },
  {
   "cell_type": "code",
   "execution_count": null,
   "metadata": {},
   "outputs": [],
   "source": [
    "%%time\n",
    "# Get all json files that are located within the subdirectories\n",
    "path = './ADS/'\n",
    "json_files = [os.path.join(root, name)\n",
    "             for root, dirs, files in os.walk(path)\n",
    "             for name in files\n",
    "             if name.endswith(\".json\")]\n"
   ]
  },
  {
   "cell_type": "code",
   "execution_count": null,
   "metadata": {},
   "outputs": [],
   "source": [
    "# convert the dataframe to sql and write out to a file\n",
    "engine = alch.create_engine('sqlite:///jobs.db', echo=False)"
   ]
  },
  {
   "cell_type": "code",
   "execution_count": null,
   "metadata": {},
   "outputs": [],
   "source": [
    "%%time\n",
    "# build a dataframe with all JSON files, this will take some time\n",
    "file_number = len(json_files)\n",
    "print(file_number,\"Files total\")\n",
    "chunks = int(file_number/10000)\n",
    "print(chunks,\"chunks of 10k files\")\n",
    "\n"
   ]
  },
  {
   "cell_type": "code",
   "execution_count": null,
   "metadata": {
    "scrolled": true
   },
   "outputs": [],
   "source": [
    "%%time\n",
    "i = 0\n",
    "for c in range(chunks):\n",
    "    #create a new datafrane for the chunk and process it\n",
    "    print(\"Processing chunk\",c+1)\n",
    "    df_list = [None] * 10000\n",
    "    \n",
    "    for j in range(0, 10000):\n",
    "        try:\n",
    "            data = pd.read_json(json_files[i], typ='series')\n",
    "            df_list[j] = data\n",
    "        except:\n",
    "            df_list[j] = None\n",
    "        i += 1\n",
    "  \n",
    "    dataframe = pd.concat(df_list, axis=1, sort=True)\n",
    "    dataframe = dataframe.transpose()\n",
    "    dataframe.to_sql('jobs.db', if_exists='append', con=engine)\n",
    "    "
   ]
  },
  {
   "cell_type": "code",
   "execution_count": null,
   "metadata": {},
   "outputs": [],
   "source": []
  }
 ],
 "metadata": {
  "kernelspec": {
   "display_name": "Python 3",
   "language": "python",
   "name": "python3"
  },
  "language_info": {
   "codemirror_mode": {
    "name": "ipython",
    "version": 3
   },
   "file_extension": ".py",
   "mimetype": "text/x-python",
   "name": "python",
   "nbconvert_exporter": "python",
   "pygments_lexer": "ipython3",
   "version": "3.7.1"
  }
 },
 "nbformat": 4,
 "nbformat_minor": 2
}
