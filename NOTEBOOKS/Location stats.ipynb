{
 "cells": [
  {
   "cell_type": "code",
   "execution_count": 1,
   "metadata": {},
   "outputs": [],
   "source": [
    "import os, json\n",
    "import pandas as pd\n",
    "import timeit\n",
    "import sqlalchemy as alch\n",
    "import numpy as np\n",
    "from datetime import datetime\n",
    "#import matplotlib.pyplot as plt\n",
    "#import matplotlib.dates as mdates\n",
    "from collections import Counter\n",
    "import csv"
   ]
  },
  {
   "cell_type": "markdown",
   "metadata": {},
   "source": [
    "# VARIABLES"
   ]
  },
  {
   "cell_type": "code",
   "execution_count": 69,
   "metadata": {},
   "outputs": [],
   "source": [
    "ntopics = 20\n",
    "model_db = 'sqlite:///../dbs/jobs_LDA_20_clustered.db'\n",
    "# use 1 for LDA table, 1 for PCA 2 for t-SNE in a D2V table\n",
    "col_index = 1"
   ]
  },
  {
   "cell_type": "markdown",
   "metadata": {},
   "source": [
    "# PART 1 - READING FROM THE DATABASES"
   ]
  },
  {
   "cell_type": "code",
   "execution_count": 70,
   "metadata": {},
   "outputs": [],
   "source": [
    "# open the databse with nutslocations for the jobs\n",
    "engine = alch.create_engine('sqlite:///jobs_nutscodes_names_v2.db', echo=False)"
   ]
  },
  {
   "cell_type": "code",
   "execution_count": 71,
   "metadata": {},
   "outputs": [
    {
     "name": "stdout",
     "output_type": "stream",
     "text": [
      "3114612\n",
      "Wall time: 79.8 ms\n"
     ]
    }
   ],
   "source": [
    "%%time\n",
    "with engine.connect() as connection:\n",
    "    result = connection.execute(\"select count(*) from jobs\")\n",
    "    number_of_rows = result.first()[0]\n",
    "print(number_of_rows)"
   ]
  },
  {
   "cell_type": "code",
   "execution_count": 72,
   "metadata": {},
   "outputs": [
    {
     "name": "stdout",
     "output_type": "stream",
     "text": [
      "100000 rows processed\n",
      "200000 rows processed\n",
      "300000 rows processed\n",
      "400000 rows processed\n",
      "500000 rows processed\n",
      "600000 rows processed\n",
      "700000 rows processed\n",
      "800000 rows processed\n",
      "900000 rows processed\n",
      "1000000 rows processed\n",
      "1100000 rows processed\n",
      "1200000 rows processed\n",
      "1300000 rows processed\n",
      "1400000 rows processed\n",
      "1500000 rows processed\n",
      "1600000 rows processed\n",
      "1700000 rows processed\n",
      "1800000 rows processed\n",
      "1900000 rows processed\n",
      "2000000 rows processed\n",
      "2100000 rows processed\n",
      "2200000 rows processed\n",
      "2300000 rows processed\n",
      "2400000 rows processed\n",
      "2500000 rows processed\n",
      "2600000 rows processed\n",
      "2700000 rows processed\n",
      "2800000 rows processed\n",
      "2900000 rows processed\n",
      "3000000 rows processed\n",
      "3100000 rows processed\n",
      "Wall time: 8.2 s\n"
     ]
    }
   ],
   "source": [
    "%%time\n",
    "jobs = [None] * number_of_rows\n",
    "\n",
    "with engine.connect() as connection:\n",
    "    result = connection.execute(\"select jobid, nutsCode from jobs\")\n",
    "    i = 0\n",
    "    nones = 0\n",
    "    for row in result:\n",
    "        jobs[i] = [row[0], row[1]]\n",
    "        i+=1  \n",
    "        if i % 100000 == 0:\n",
    "            print(i,\"rows processed\")"
   ]
  },
  {
   "cell_type": "code",
   "execution_count": 73,
   "metadata": {},
   "outputs": [],
   "source": [
    "# open the database with topics for the jobs\n",
    "engine2 = alch.create_engine(model_db, echo=False)"
   ]
  },
  {
   "cell_type": "code",
   "execution_count": 74,
   "metadata": {},
   "outputs": [
    {
     "name": "stdout",
     "output_type": "stream",
     "text": [
      "3279172\n",
      "Wall time: 93.4 ms\n"
     ]
    }
   ],
   "source": [
    "%%time\n",
    "with engine2.connect() as connection:\n",
    "    result = connection.execute(\"SELECT COUNT(*) FROM jobs\")\n",
    "    number_of_rows = result.first()[0]\n",
    "print(number_of_rows)"
   ]
  },
  {
   "cell_type": "code",
   "execution_count": 75,
   "metadata": {
    "scrolled": false
   },
   "outputs": [
    {
     "name": "stdout",
     "output_type": "stream",
     "text": [
      "100000 rows processed\n",
      "200000 rows processed\n",
      "300000 rows processed\n",
      "400000 rows processed\n",
      "500000 rows processed\n",
      "600000 rows processed\n",
      "700000 rows processed\n",
      "800000 rows processed\n",
      "900000 rows processed\n",
      "1000000 rows processed\n",
      "1100000 rows processed\n",
      "1200000 rows processed\n",
      "1300000 rows processed\n",
      "1400000 rows processed\n",
      "1500000 rows processed\n",
      "1600000 rows processed\n",
      "1700000 rows processed\n",
      "1800000 rows processed\n",
      "1900000 rows processed\n",
      "2000000 rows processed\n",
      "2100000 rows processed\n",
      "2200000 rows processed\n",
      "2300000 rows processed\n",
      "2400000 rows processed\n",
      "2500000 rows processed\n",
      "2600000 rows processed\n",
      "2700000 rows processed\n",
      "2800000 rows processed\n",
      "2900000 rows processed\n",
      "3000000 rows processed\n",
      "3100000 rows processed\n",
      "3200000 rows processed\n",
      "Wall time: 8.79 s\n"
     ]
    }
   ],
   "source": [
    "%%time\n",
    "topics = [None] * number_of_rows\n",
    "\n",
    "with engine2.connect() as connection:\n",
    "    result = connection.execute(\"select * from jobs\")\n",
    "    i = 0\n",
    "    nones = 0\n",
    "    for row in result:\n",
    "        topics[i] = [row[0], row[col_index]]\n",
    "        i+=1  \n",
    "        if i % 100000 == 0:\n",
    "            print(i,\"rows processed\")"
   ]
  },
  {
   "cell_type": "code",
   "execution_count": 76,
   "metadata": {},
   "outputs": [
    {
     "name": "stdout",
     "output_type": "stream",
     "text": [
      "Wall time: 901 ms\n"
     ]
    }
   ],
   "source": [
    "%%time\n",
    "# filter out the entries in topics not matched by an entry in jobs \n",
    "jobs_located = [item[0] for item in jobs]\n",
    "jobs_with_topics = [item[0] for item in topics]\n",
    "\n",
    "tmp = set(jobs_with_topics) \n",
    "jobs_considered = [value for value in jobs_located if value in tmp]\n"
   ]
  },
  {
   "cell_type": "code",
   "execution_count": 77,
   "metadata": {},
   "outputs": [
    {
     "data": {
      "text/plain": [
       "37000037"
      ]
     },
     "execution_count": 77,
     "metadata": {},
     "output_type": "execute_result"
    }
   ],
   "source": [
    "jobs_with_topics[35]\n",
    "jobs_located[36]"
   ]
  },
  {
   "cell_type": "code",
   "execution_count": 78,
   "metadata": {},
   "outputs": [],
   "source": [
    "# Open the NOMIS dataset for additional stats and build a dictionary\n",
    "dem_info = {}\n",
    "\n",
    "with open('NOMIS-dataset.csv', newline='') as csvfile:\n",
    "    reader = csv.reader(csvfile)\n",
    "    for row in reader:\n",
    "        try:\n",
    "            if 'UK' in row[1]:\n",
    "                # if ukm2, switch it to 7\n",
    "                if row[1][:4] == 'UKM2':\n",
    "                    row[1] = 'UKM7'+row[1][4:]\n",
    "                elif row[1][:4] == 'UKM3':\n",
    "                    row[1] = 'UKM8'+row[1][4:]\n",
    "                    entry = {'population':row[3],'employmentrate':row[4],'employeerate':row[8],'unemploymentrate':row[12]}\n",
    "                    dem_info[row[1]] = entry\n",
    "                    row[1] = 'UKM9'+row[1][4:]\n",
    "                entry = {'population':row[3],'employmentrate':row[4],'employeerate':row[8],'unemploymentrate':row[12]}\n",
    "                dem_info[row[1]] = entry\n",
    "        except:\n",
    "            pass"
   ]
  },
  {
   "cell_type": "code",
   "execution_count": 79,
   "metadata": {},
   "outputs": [
    {
     "name": "stdout",
     "output_type": "stream",
     "text": [
      "{'UKC': {'population': '1635500', 'employmentrate': '71.1', 'employeerate': '62.6', 'unemploymentrate': '5.8'}, 'UKD': {'population': '4497100', 'employmentrate': '74.9', 'employeerate': '64.9', 'unemploymentrate': '4.1'}, 'UKE': {'population': '3379400', 'employmentrate': '74.0', 'employeerate': '64.4', 'unemploymentrate': '4.2'}, 'UKF': {'population': '2947000', 'employmentrate': '76.8', 'employeerate': '66.6', 'unemploymentrate': '3.7'}, 'UKG': {'population': '3613600', 'employmentrate': '73.9', 'employeerate': '63.8', 'unemploymentrate': '5.0'}, 'UKH': {'population': '3776800', 'employmentrate': '77.9', 'employeerate': '66.5', 'unemploymentrate': '3.3'}, 'UKI': {'population': '6082300', 'employmentrate': '75.1', 'employeerate': '61.5', 'unemploymentrate': '4.8'}, 'UKJ': {'population': '5577000', 'employmentrate': '79.6', 'employeerate': '67.3', 'unemploymentrate': '3.2'}, 'UKK': {'population': '3336000', 'employmentrate': '79.2', 'employeerate': '66.3', 'unemploymentrate': '3.3'}, 'UKL': {'population': '1900300', 'employmentrate': '73.7', 'employeerate': '63.6', 'unemploymentrate': '3.9'}, 'UKM': {'population': '3442400', 'employmentrate': '74.5', 'employeerate': '65.4', 'unemploymentrate': '3.3'}, 'UKC1': {'population': '732600', 'employmentrate': '70.3', 'employeerate': '61.6', 'unemploymentrate': '6.3'}, 'UKC2': {'population': '903000', 'employmentrate': '71.7', 'employeerate': '63.4', 'unemploymentrate': '5.3'}, 'UKD1': {'population': '291400', 'employmentrate': '78.9', 'employeerate': '66.3', 'unemploymentrate': '3.1'}, 'UKD3': {'population': '1786000', 'employmentrate': '72.7', 'employeerate': '62.7', 'unemploymentrate': '5.2'}, 'UKD4': {'population': '895100', 'employmentrate': '76.2', 'employeerate': '65.7', 'unemploymentrate': '3.2'}, 'UKD6': {'population': '558500', 'employmentrate': '80.2', 'employeerate': '69.3', 'unemploymentrate': '3.5'}, 'UKD7': {'population': '966200', 'employmentrate': '73.5', 'employeerate': '65.2', 'unemploymentrate': '3.7'}, 'UKE1': {'population': '559900', 'employmentrate': '75.3', 'employeerate': '66.2', 'unemploymentrate': '4.9'}, 'UKE2': {'population': '486100', 'employmentrate': '79.5', 'employeerate': '68.4', 'unemploymentrate': '1.7'}, 'UKE3': {'population': '881200', 'employmentrate': '72.7', 'employeerate': '64.7', 'unemploymentrate': '5.1'}, 'UKE4': {'population': '1452100', 'employmentrate': '72.6', 'employeerate': '62.3', 'unemploymentrate': '4.3'}, 'UKF1': {'population': '1368900', 'employmentrate': '75.5', 'employeerate': '65.5', 'unemploymentrate': '4.0'}, 'UKF2': {'population': '1136300', 'employmentrate': '79.1', 'employeerate': '69.2', 'unemploymentrate': '3.5'}, 'UKF3': {'population': '441800', 'employmentrate': '74.7', 'employeerate': '63.5', 'unemploymentrate': '3.5'}, 'UKG1': {'population': '800000', 'employmentrate': '80.3', 'employeerate': '68.2', 'unemploymentrate': '2.3'}, 'UKG2': {'population': '974900', 'employmentrate': '78.0', 'employeerate': '67.7', 'unemploymentrate': '3.5'}, 'UKG3': {'population': '1838700', 'employmentrate': '69.0', 'employeerate': '59.9', 'unemploymentrate': '7.2'}, 'UKH1': {'population': '1490200', 'employmentrate': '78.0', 'employeerate': '67.7', 'unemploymentrate': '3.2'}, 'UKH2': {'population': '1170700', 'employmentrate': '78.7', 'employeerate': '66.4', 'unemploymentrate': '3.4'}, 'UKH3': {'population': '1116000', 'employmentrate': '77.0', 'employeerate': '64.8', 'unemploymentrate': '3.1'}, 'UKI3': {'population': '830100', 'employmentrate': '74.9', 'employeerate': '61.2', 'unemploymentrate': '4.4'}, 'UKI4': {'population': '1765900', 'employmentrate': '75.8', 'employeerate': '61.8', 'unemploymentrate': '4.8'}, 'UKI5': {'population': '1268000', 'employmentrate': '73.5', 'employeerate': '59.6', 'unemploymentrate': '5.5'}, 'UKI6': {'population': '850200', 'employmentrate': '78.8', 'employeerate': '65.3', 'unemploymentrate': '3.9'}, 'UKI7': {'population': '1368100', 'employmentrate': '73.7', 'employeerate': '60.7', 'unemploymentrate': '4.8'}, 'UKJ1': {'population': '1491500', 'employmentrate': '81.5', 'employeerate': '69.5', 'unemploymentrate': '2.8'}, 'UKJ2': {'population': '1751000', 'employmentrate': '80.2', 'employeerate': '66.2', 'unemploymentrate': '3.1'}, 'UKJ3': {'population': '1214600', 'employmentrate': '77.9', 'employeerate': '67.3', 'unemploymentrate': '3.4'}, 'UKJ4': {'population': '1119900', 'employmentrate': '78.2', 'employeerate': '66.0', 'unemploymentrate': '3.9'}, 'UKK1': {'population': '1549200', 'employmentrate': '80.0', 'employeerate': '68.0', 'unemploymentrate': '3.3'}, 'UKK2': {'population': '764200', 'employmentrate': '79.3', 'employeerate': '66.8', 'unemploymentrate': '2.5'}, 'UKK3': {'population': '327600', 'employmentrate': '77.9', 'employeerate': '62.3', 'unemploymentrate': '3.3'}, 'UKK4': {'population': '695000', 'employmentrate': '78.0', 'employeerate': '64.1', 'unemploymentrate': '4.0'}, 'UKL1': {'population': '1178400', 'employmentrate': '72.1', 'employeerate': '62.1', 'unemploymentrate': '4.2'}, 'UKL2': {'population': '721900', 'employmentrate': '76.2', 'employeerate': '65.9', 'unemploymentrate': '3.3'}, 'UKM7': {'population': '1335900', 'employmentrate': '75.2', 'employeerate': '65.5', 'unemploymentrate': '3.4'}, 'UKM8': {'population': '1507400', 'employmentrate': '71.9', 'employeerate': '63.8', 'unemploymentrate': '3.7'}, 'UKM9': {'population': '1507400', 'employmentrate': '71.9', 'employeerate': '63.8', 'unemploymentrate': '3.7'}, 'UKM5': {'population': '324300', 'employmentrate': '79.7', 'employeerate': '70.1', 'unemploymentrate': '2.3'}, 'UKM6': {'population': '274800', 'employmentrate': '79.2', 'employeerate': '67.9', 'unemploymentrate': '2.4'}, 'UKC11': {'population': '176400', 'employmentrate': '71.3', 'employeerate': '63.5', 'unemploymentrate': '6.2'}, 'UKC12': {'population': '168900', 'employmentrate': '65.6', 'employeerate': '58.0', 'unemploymentrate': '6.3'}, 'UKC13': {'population': '63100', 'employmentrate': '74.9', 'employeerate': '67.0', 'unemploymentrate': '6.6'}, 'UKC14': {'population': '324100', 'employmentrate': '71.4', 'employeerate': '61.4', 'unemploymentrate': '6.3'}, 'UKC21': {'population': '183500', 'employmentrate': '73.1', 'employeerate': '62.0', 'unemploymentrate': '5.7'}, 'UKC22': {'population': '545000', 'employmentrate': '71.8', 'employeerate': '63.9', 'unemploymentrate': '4.8'}, 'UKC23': {'population': '174500', 'employmentrate': '70.3', 'employeerate': '63.3', 'unemploymentrate': '6.4'}, 'UKD11': {'population': '136400', 'employmentrate': '74.2', 'employeerate': '64.5', 'unemploymentrate': '4.7'}, 'UKD12': {'population': '155000', 'employmentrate': '83.1', 'employeerate': '67.9', 'unemploymentrate': '1.8'}, 'UKD33': {'population': '388600', 'employmentrate': '66.4', 'employeerate': '58.8', 'unemploymentrate': '6.7'}, 'UKD34': {'population': '309500', 'employmentrate': '77.4', 'employeerate': '67.0', 'unemploymentrate': '5.0'}, 'UKD35': {'population': '316500', 'employmentrate': '77.0', 'employeerate': '66.7', 'unemploymentrate': '4.5'}, 'UKD36': {'population': '380700', 'employmentrate': '71.9', 'employeerate': '60.9', 'unemploymentrate': '5.8'}, 'UKD37': {'population': '390800', 'employmentrate': '72.3', 'employeerate': '61.9', 'unemploymentrate': '4.1'}, 'UKD41': {'population': '91300', 'employmentrate': '68.4', 'employeerate': '60.3', 'unemploymentrate': '4.8'}, 'UKD42': {'population': '82100', 'employmentrate': '73.5', 'employeerate': '64.6', 'unemploymentrate': '5.9'}, 'UKD44': {'population': '152500', 'employmentrate': '73.1', 'employeerate': '62.8', 'unemploymentrate': '3.6'}, 'UKD45': {'population': '236900', 'employmentrate': '83.3', 'employeerate': '73.5', 'unemploymentrate': '1.1'}, 'UKD46': {'population': '195800', 'employmentrate': '76.9', 'employeerate': '63.3', 'unemploymentrate': '3.5'}, 'UKD47': {'population': '136500', 'employmentrate': '73.4', 'employeerate': '63.0', 'unemploymentrate': '3.6'}, 'UKD61': {'population': '130400', 'employmentrate': '81.6', 'employeerate': '69.7', 'unemploymentrate': '3.3'}, 'UKD62': {'population': '223200', 'employmentrate': '81.5', 'employeerate': '70.9', 'unemploymentrate': '4.5'}, 'UKD63': {'population': '204900', 'employmentrate': '77.8', 'employeerate': '67.2', 'unemploymentrate': '2.4'}, 'UKD71': {'population': '280000', 'employmentrate': '75.8', 'employeerate': '68.5', 'unemploymentrate': '3.9'}, 'UKD72': {'population': '333100', 'employmentrate': '69.0', 'employeerate': '61.0', 'unemploymentrate': '4.0'}, 'UKD73': {'population': '160600', 'employmentrate': '75.6', 'employeerate': '66.5', 'unemploymentrate': '2.2'}, 'UKD74': {'population': '192500', 'employmentrate': '75.9', 'employeerate': '66.6', 'unemploymentrate': '4.4'}, 'UKE11': {'population': '168600', 'employmentrate': '74.0', 'employeerate': '66.9', 'unemploymentrate': '6.4'}, 'UKE12': {'population': '192900', 'employmentrate': '79.6', 'employeerate': '68.2', 'unemploymentrate': '3.1'}, 'UKE13': {'population': '198400', 'employmentrate': '72.2', 'employeerate': '63.7', 'unemploymentrate': '5.4'}, 'UKE21': {'population': '135500', 'employmentrate': '80.0', 'employeerate': '70.4', 'unemploymentrate': '2.8'}, 'UKE22': {'population': '350600', 'employmentrate': '79.3', 'employeerate': '67.6', 'unemploymentrate': '1.2'}, 'UKE31': {'population': '499600', 'employmentrate': '72.1', 'employeerate': '63.6', 'unemploymentrate': '5.8'}, 'UKE32': {'population': '381600', 'employmentrate': '73.4', 'employeerate': '66.1', 'unemploymentrate': '4.1'}, 'UKE41': {'population': '327400', 'employmentrate': '66.2', 'employeerate': '56.0', 'unemploymentrate': '6.4'}, 'UKE42': {'population': '513400', 'employmentrate': '75.8', 'employeerate': '65.0', 'unemploymentrate': '4.1'}, 'UKE44': {'population': '401700', 'employmentrate': '72.4', 'employeerate': '61.7', 'unemploymentrate': '2.8'}, 'UKE45': {'population': '209700', 'employmentrate': '74.9', 'employeerate': '66.5', 'unemploymentrate': '4.6'}, 'UKF11': {'population': '161200', 'employmentrate': '74.2', 'employeerate': '66.4', 'unemploymentrate': '4.3'}, 'UKF12': {'population': '174800', 'employmentrate': '70.9', 'employeerate': '63.3', 'unemploymentrate': '5.4'}, 'UKF13': {'population': '309600', 'employmentrate': '80.4', 'employeerate': '67.2', 'unemploymentrate': '2.9'}, 'UKF14': {'population': '223200', 'employmentrate': '64.6', 'employeerate': '57.4', 'unemploymentrate': '6.6'}, 'UKF15': {'population': '290900', 'employmentrate': '78.5', 'employeerate': '68.6', 'unemploymentrate': '2.8'}, 'UKF16': {'population': '209200', 'employmentrate': '80.7', 'employeerate': '68.6', 'unemploymentrate': '3.3'}, 'UKF21': {'population': '236300', 'employmentrate': '72.5', 'employeerate': '65.2', 'unemploymentrate': '4.1'}, 'UKF22': {'population': '443800', 'employmentrate': '80.4', 'employeerate': '70.7', 'unemploymentrate': '3.1'}, 'UKF24': {'population': '247500', 'employmentrate': '77.8', 'employeerate': '67.0', 'unemploymentrate': '4.6'}, 'UKF25': {'population': '208800', 'employmentrate': '85.3', 'employeerate': '73.3', 'unemploymentrate': '2.4'}, 'UKF30': {'population': '441800', 'employmentrate': '74.7', 'employeerate': '63.5', 'unemploymentrate': '3.5'}, 'UKG11': {'population': '109800', 'employmentrate': '80.9', 'employeerate': '63.8', 'unemploymentrate': '2.5'}, 'UKG12': {'population': '350000', 'employmentrate': '79.1', 'employeerate': '67.9', 'unemploymentrate': '2.6'}, 'UKG13': {'population': '340100', 'employmentrate': '81.3', 'employeerate': '69.8', 'unemploymentrate': '1.9'}, 'UKG21': {'population': '110000', 'employmentrate': '74.8', 'employeerate': '65.8', 'unemploymentrate': '5.9'}, 'UKG22': {'population': '182000', 'employmentrate': '79.7', 'employeerate': '64.8', 'unemploymentrate': '3.0'}, 'UKG23': {'population': '159100', 'employmentrate': '73.2', 'employeerate': '65.7', 'unemploymentrate': '4.3'}, 'UKG24': {'population': '523800', 'employmentrate': '79.5', 'employeerate': '69.7', 'unemploymentrate': '3.0'}, 'UKG31': {'population': '731600', 'employmentrate': '64.6', 'employeerate': '54.5', 'unemploymentrate': '10.2'}, 'UKG32': {'population': '127900', 'employmentrate': '77.1', 'employeerate': '68.2', 'unemploymentrate': '3.9'}, 'UKG33': {'population': '246100', 'employmentrate': '72.1', 'employeerate': '64.1', 'unemploymentrate': '5.5'}, 'UKG36': {'population': '190800', 'employmentrate': '73.8', 'employeerate': '64.8', 'unemploymentrate': '4.5'}, 'UKG37': {'population': '205200', 'employmentrate': '69.6', 'employeerate': '61.8', 'unemploymentrate': '4.7'}, 'UKG38': {'population': '172900', 'employmentrate': '71.5', 'employeerate': '62.4', 'unemploymentrate': '6.4'}, 'UKG39': {'population': '164200', 'employmentrate': '68.2', 'employeerate': '60.4', 'unemploymentrate': '7.0'}, 'UKH11': {'population': '124500', 'employmentrate': '73.6', 'employeerate': '66.0', 'unemploymentrate': '6.6'}, 'UKH12': {'population': '403500', 'employmentrate': '78.7', 'employeerate': '68.8', 'unemploymentrate': '2.1'}, 'UKH14': {'population': '437600', 'employmentrate': '78.4', 'employeerate': '67.0', 'unemploymentrate': '2.3'}, 'UKH15': {'population': '229500', 'employmentrate': '77.3', 'employeerate': '65.8', 'unemploymentrate': '4.5'}, 'UKH16': {'population': '138200', 'employmentrate': '76.4', 'employeerate': '63.3', 'unemploymentrate': '4.6'}, 'UKH17': {'population': '156800', 'employmentrate': '80.6', 'employeerate': '75.2', 'unemploymentrate': '2.7'}, 'UKH21': {'population': '139900', 'employmentrate': '70.9', 'employeerate': '61.3', 'unemploymentrate': '4.4'}, 'UKH23': {'population': '745100', 'employmentrate': '79.6', 'employeerate': '66.2', 'unemploymentrate': '3.7'}, 'UKH24': {'population': '106200', 'employmentrate': '79.5', 'employeerate': '67.9', 'unemploymentrate': '3.7'}, 'UKH25': {'population': '179400', 'employmentrate': '80.5', 'employeerate': '70.7', 'unemploymentrate': '1.4'}, 'UKH31': {'population': '111600', 'employmentrate': '77.6', 'employeerate': '63.0', 'unemploymentrate': '3.9'}, 'UKH32': {'population': '108900', 'employmentrate': '76.6', 'employeerate': '66.3', 'unemploymentrate': '5.1'}, 'UKH34': {'population': '295500', 'employmentrate': '71.7', 'employeerate': '62.5', 'unemploymentrate': '4.6'}, 'UKH35': {'population': '186900', 'employmentrate': '78.8', 'employeerate': '61.8', 'unemploymentrate': '2.7'}, 'UKH36': {'population': '192900', 'employmentrate': '79.6', 'employeerate': '69.4', 'unemploymentrate': '!'}, 'UKH37': {'population': '220200', 'employmentrate': '80.0', 'employeerate': '66.7', 'unemploymentrate': '2.4'}, 'UKI31': {'population': '193800', 'employmentrate': '73.3', 'employeerate': '60.9', 'unemploymentrate': '3.6'}, 'UKI32': {'population': '171500', 'employmentrate': '68.4', 'employeerate': '55.2', 'unemploymentrate': '8.0'}, 'UKI33': {'population': '231300', 'employmentrate': '72.8', 'employeerate': '59.1', 'unemploymentrate': '4.1'}, 'UKI34': {'population': '233500', 'employmentrate': '83.1', 'employeerate': '67.9', 'unemploymentrate': '2.8'}, 'UKI41': {'population': '460100', 'employmentrate': '71.0', 'employeerate': '57.5', 'unemploymentrate': '5.0'}, 'UKI42': {'population': '235100', 'employmentrate': '71.9', 'employeerate': '59.0', 'unemploymentrate': '3.6'}, 'UKI43': {'population': '372700', 'employmentrate': '76.6', 'employeerate': '61.9', 'unemploymentrate': '4.1'}, 'UKI44': {'population': '451700', 'employmentrate': '81.0', 'employeerate': '66.4', 'unemploymentrate': '4.5'}, 'UKI45': {'population': '246400', 'employmentrate': '77.7', 'employeerate': '64.0', 'unemploymentrate': '6.8'}, 'UKI51': {'population': '354400', 'employmentrate': '76.5', 'employeerate': '64.3', 'unemploymentrate': '4.6'}, 'UKI52': {'population': '301800', 'employmentrate': '74.0', 'employeerate': '64.1', 'unemploymentrate': '4.9'}, 'UKI53': {'population': '393700', 'employmentrate': '72.4', 'employeerate': '55.0', 'unemploymentrate': '5.7'}, 'UKI54': {'population': '218100', 'employmentrate': '69.6', 'employeerate': '54.2', 'unemploymentrate': '7.5'}, 'UKI61': {'population': '209500', 'employmentrate': '77.7', 'employeerate': '63.8', 'unemploymentrate': '2.9'}, 'UKI62': {'population': '250500', 'employmentrate': '78.8', 'employeerate': '66.7', 'unemploymentrate': '3.0'}, 'UKI63': {'population': '390200', 'employmentrate': '79.5', 'employeerate': '65.2', 'unemploymentrate': '5.0'}, 'UKI71': {'population': '257000', 'employmentrate': '75.1', 'employeerate': '60.9', 'unemploymentrate': '5.7'}, 'UKI72': {'population': '221900', 'employmentrate': '71.0', 'employeerate': '55.2', 'unemploymentrate': '6.9'}, 'UKI73': {'population': '222800', 'employmentrate': '74.5', 'employeerate': '62.4', 'unemploymentrate': '3.7'}, 'UKI74': {'population': '357400', 'employmentrate': '71.8', 'employeerate': '60.3', 'unemploymentrate': '4.7'}, 'UKI75': {'population': '309000', 'employmentrate': '76.3', 'employeerate': '63.8', 'unemploymentrate': '3.5'}, 'UKJ11': {'population': '571200', 'employmentrate': '80.9', 'employeerate': '69.4', 'unemploymentrate': '2.6'}, 'UKJ12': {'population': '170600', 'employmentrate': '78.2', 'employeerate': '68.4', 'unemploymentrate': '4.3'}, 'UKJ13': {'population': '325800', 'employmentrate': '81.5', 'employeerate': '67.7', 'unemploymentrate': '3.2'}, 'UKJ14': {'population': '423800', 'employmentrate': '83.7', 'employeerate': '71.5', 'unemploymentrate': '2.1'}, 'UKJ21': {'population': '207700', 'employmentrate': '75.8', 'employeerate': '63.0', 'unemploymentrate': '4.2'}, 'UKJ22': {'population': '315900', 'employmentrate': '80.1', 'employeerate': '64.1', 'unemploymentrate': '3.9'}, 'UKJ25': {'population': '487200', 'employmentrate': '80.5', 'employeerate': '68.2', 'unemploymentrate': '2.4'}, 'UKJ26': {'population': '236400', 'employmentrate': '82.6', 'employeerate': '66.2', 'unemploymentrate': '2.6'}, 'UKJ27': {'population': '256600', 'employmentrate': '81.3', 'employeerate': '65.3', 'unemploymentrate': '3.3'}, 'UKJ28': {'population': '247300', 'employmentrate': '80.1', 'employeerate': '68.3', 'unemploymentrate': '2.7'}, 'UKJ31': {'population': '143900', 'employmentrate': '70.9', 'employeerate': '61.0', 'unemploymentrate': '4.7'}, 'UKJ32': {'population': '172900', 'employmentrate': '76.1', 'employeerate': '67.5', 'unemploymentrate': '5.4'}, 'UKJ34': {'population': '75800', 'employmentrate': '74.5', 'employeerate': '61.6', 'unemploymentrate': '3.3'}, 'UKJ35': {'population': '276100', 'employmentrate': '77.9', 'employeerate': '67.3', 'unemploymentrate': '2.7'}, 'UKJ36': {'population': '320300', 'employmentrate': '78.1', 'employeerate': '67.2', 'unemploymentrate': '3.2'}, 'UKJ37': {'population': '225700', 'employmentrate': '84.5', 'employeerate': '73.5', 'unemploymentrate': '2.3'}, 'UKJ41': {'population': '176800', 'employmentrate': '77.4', 'employeerate': '69.8', 'unemploymentrate': '4.6'}, 'UKJ43': {'population': '222900', 'employmentrate': '81.1', 'employeerate': '72.2', 'unemploymentrate': '3.4'}, 'UKJ44': {'population': '314100', 'employmentrate': '73.7', 'employeerate': '58.1', 'unemploymentrate': '3.8'}, 'UKJ45': {'population': '185300', 'employmentrate': '83.3', 'employeerate': '71.9', 'unemploymentrate': '2.2'}, 'UKJ46': {'population': '220900', 'employmentrate': '77.8', 'employeerate': '63.1', 'unemploymentrate': '5.6'}, 'UKK11': {'population': '319700', 'employmentrate': '76.3', 'employeerate': '65.7', 'unemploymentrate': '4.9'}, 'UKK12': {'population': '419700', 'employmentrate': '81.1', 'employeerate': '68.8', 'unemploymentrate': '3.3'}, 'UKK13': {'population': '378900', 'employmentrate': '82.4', 'employeerate': '69.6', 'unemploymentrate': '3.1'}, 'UKK14': {'population': '139600', 'employmentrate': '81.2', 'employeerate': '73.5', 'unemploymentrate': '3.3'}, 'UKK15': {'population': '291400', 'employmentrate': '78.7', 'employeerate': '64.6', 'unemploymentrate': '2.1'}, 'UKK21': {'population': '216400', 'employmentrate': '81.1', 'employeerate': '71.2', 'unemploymentrate': '2.8'}, 'UKK22': {'population': '229500', 'employmentrate': '76.9', 'employeerate': '62.6', 'unemploymentrate': '2.2'}, 'UKK23': {'population': '318300', 'employmentrate': '79.7', 'employeerate': '66.9', 'unemploymentrate': '2.5'}, 'UKK30': {'population': '327600', 'employmentrate': '77.9', 'employeerate': '62.3', 'unemploymentrate': '3.3'}, 'UKK41': {'population': '166800', 'employmentrate': '73.5', 'employeerate': '65.4', 'unemploymentrate': '5.1'}, 'UKK42': {'population': '76000', 'employmentrate': '73.1', 'employeerate': '62.3', 'unemploymentrate': '5.2'}, 'UKK43': {'population': '452200', 'employmentrate': '80.5', 'employeerate': '63.9', 'unemploymentrate': '3.4'}, 'UKL11': {'population': '39200', 'employmentrate': '75.5', 'employeerate': '63.7', 'unemploymentrate': '4.4'}, 'UKL12': {'population': '73400', 'employmentrate': '75.4', 'employeerate': '60.9', 'unemploymentrate': '3.0'}, 'UKL13': {'population': '118900', 'employmentrate': '73.3', 'employeerate': '61.9', 'unemploymentrate': '4.1'}, 'UKL14': {'population': '224100', 'employmentrate': '72.9', 'employeerate': '57.9', 'unemploymentrate': '3.6'}, 'UKL15': {'population': '183700', 'employmentrate': '69.6', 'employeerate': '62.6', 'unemploymentrate': '5.0'}, 'UKL16': {'population': '211100', 'employmentrate': '71.6', 'employeerate': '64.1', 'unemploymentrate': '4.6'}, 'UKL17': {'population': '173600', 'employmentrate': '74.7', 'employeerate': '66.7', 'unemploymentrate': '4.0'}, 'UKL18': {'population': '154500', 'employmentrate': '68.6', 'employeerate': '60.1', 'unemploymentrate': '4.9'}, 'UKL21': {'population': '145800', 'employmentrate': '76.4', 'employeerate': '67.2', 'unemploymentrate': '3.1'}, 'UKL22': {'population': '321700', 'employmentrate': '74.7', 'employeerate': '65.9', 'unemploymentrate': '3.2'}, 'UKL23': {'population': '180700', 'employmentrate': '77.9', 'employeerate': '67.5', 'unemploymentrate': '3.6'}, 'UKL24': {'population': '73700', 'employmentrate': '77.6', 'employeerate': '59.1', 'unemploymentrate': '3.1'}, 'UKM71': {'population': '164500', 'employmentrate': '73.5', 'employeerate': '64.1', 'unemploymentrate': '4.2'}, 'UKM72': {'population': '260000', 'employmentrate': '72.2', 'employeerate': '63.3', 'unemploymentrate': '4.4'}, 'UKM73': {'population': '120500', 'employmentrate': '80.7', 'employeerate': '71.5', 'unemploymentrate': '1.9'}, 'UKM74': {'population': '68000', 'employmentrate': '74.9', 'employeerate': '59.8', 'unemploymentrate': '3.2'}, 'UKM75': {'population': '355700', 'employmentrate': '75.0', 'employeerate': '64.5', 'unemploymentrate': '2.7'}, 'UKM76': {'population': '101800', 'employmentrate': '73.8', 'employeerate': '68.4', 'unemploymentrate': '5.0'}, 'UKM77': {'population': '149300', 'employmentrate': '77.1', 'employeerate': '66.3', 'unemploymentrate': '3.1'}, 'UKM78': {'population': '116000', 'employmentrate': '78.4', 'employeerate': '69.6', 'unemploymentrate': '2.6'}, 'UKM81': {'population': '140300', 'employmentrate': '74.4', 'employeerate': '66.0', 'unemploymentrate': '2.8'}, 'UKM91': {'population': '140300', 'employmentrate': '74.4', 'employeerate': '66.0', 'unemploymentrate': '2.8'}, 'UKM82': {'population': '85500', 'employmentrate': '74.1', 'employeerate': '61.4', 'unemploymentrate': '2.0'}, 'UKM92': {'population': '85500', 'employmentrate': '74.1', 'employeerate': '61.4', 'unemploymentrate': '2.0'}, 'UKM83': {'population': '153900', 'employmentrate': '71.0', 'employeerate': '62.0', 'unemploymentrate': '5.3'}, 'UKM93': {'population': '153900', 'employmentrate': '71.0', 'employeerate': '62.0', 'unemploymentrate': '5.3'}, 'UKM84': {'population': '432500', 'employmentrate': '65.7', 'employeerate': '58.1', 'unemploymentrate': '4.2'}, 'UKM94': {'population': '432500', 'employmentrate': '65.7', 'employeerate': '58.1', 'unemploymentrate': '4.2'}, 'UKM85': {'population': '217200', 'employmentrate': '74.2', 'employeerate': '67.4', 'unemploymentrate': '4.2'}, 'UKM95': {'population': '217200', 'employmentrate': '74.2', 'employeerate': '67.4', 'unemploymentrate': '4.2'}, 'UKM86': {'population': '216300', 'employmentrate': '73.7', 'employeerate': '68.2', 'unemploymentrate': '4.6'}, 'UKM96': {'population': '216300', 'employmentrate': '73.7', 'employeerate': '68.2', 'unemploymentrate': '4.6'}, 'UKM87': {'population': '64600', 'employmentrate': '75.0', 'employeerate': '64.6', 'unemploymentrate': '3.8'}, 'UKM97': {'population': '64600', 'employmentrate': '75.0', 'employeerate': '64.6', 'unemploymentrate': '3.8'}, 'UKM88': {'population': '197300', 'employmentrate': '77.9', 'employeerate': '68.4', 'unemploymentrate': '1.7'}, 'UKM98': {'population': '197300', 'employmentrate': '77.9', 'employeerate': '68.4', 'unemploymentrate': '1.7'}, 'UKM50': {'population': '324300', 'employmentrate': '79.7', 'employeerate': '70.1', 'unemploymentrate': '2.3'}, 'UKM61': {'population': '50900', 'employmentrate': '74.2', 'employeerate': '63.3', 'unemploymentrate': '3.4'}, 'UKM62': {'population': '135200', 'employmentrate': '81.5', 'employeerate': '71.4', 'unemploymentrate': '2.5'}, 'UKM63': {'population': '46600', 'employmentrate': '75.9', 'employeerate': '60.5', 'unemploymentrate': '1.8'}, 'UKM64': {'population': '15500', 'employmentrate': '81.6', 'employeerate': '67.8', 'unemploymentrate': '1.7'}, 'UKM65': {'population': '12800', 'employmentrate': '87.2', 'employeerate': '79.6', 'unemploymentrate': '!'}, 'UKM66': {'population': '13700', 'employmentrate': '75.1', 'employeerate': '65.1', 'unemploymentrate': '!'}}\n"
     ]
    }
   ],
   "source": [
    "print(dem_info)"
   ]
  },
  {
   "cell_type": "code",
   "execution_count": 80,
   "metadata": {},
   "outputs": [
    {
     "name": "stdout",
     "output_type": "stream",
     "text": [
      "Wall time: 4.44 s\n"
     ]
    }
   ],
   "source": [
    "%%time\n",
    "# build a list containing all jobs considered including topic and location\n",
    "newJobList = [None]*len(jobs_considered)\n",
    "# counters\n",
    "c1 = 0\n",
    "c2 = 0\n",
    "for i in range(len(jobs_considered)):\n",
    "   \n",
    "    while(jobs_considered[i] != jobs_located[c1]):\n",
    "        c1+=1\n",
    "\n",
    "    while(jobs_considered[i] != jobs_with_topics[c2]):\n",
    "        c2+=1\n",
    "\n",
    "    newJobList[i] = [jobs_considered[i], jobs[c1][1], topics[c2][1]]"
   ]
  },
  {
   "cell_type": "code",
   "execution_count": 81,
   "metadata": {},
   "outputs": [
    {
     "name": "stdout",
     "output_type": "stream",
     "text": [
      "[[37000000, 'UKH12', 6], [37000001, 'UKJ25', 11], [37000002, 'UKE32', 12], [37000003, 'UKI34', 6], [37000004, 'UKD34', 15], [37000005, 'UKJ25', 16], [37000006, 'UKI34', 4], [37000007, 'UKG33', 3], [37000008, 'UKK12', 1], [37000009, 'UKI34', 17]]\n"
     ]
    }
   ],
   "source": [
    "print(newJobList[:10])"
   ]
  },
  {
   "cell_type": "markdown",
   "metadata": {},
   "source": [
    "# PART 2 - BUILDING STATS"
   ]
  },
  {
   "cell_type": "code",
   "execution_count": 82,
   "metadata": {},
   "outputs": [
    {
     "name": "stdout",
     "output_type": "stream",
     "text": [
      "Wall time: 4.99 s\n"
     ]
    }
   ],
   "source": [
    "%%time\n",
    "nutscodes = []\n",
    "with open('NUTS_Level_3__January_2018__Boundaries.GEOJSON', 'r') as f:\n",
    "        geo_data = f.read()\n",
    "        geo_data = json.loads(geo_data)\n",
    "\n",
    "for f in geo_data['features']:    \n",
    "        nutscodes.append(f['properties']['nuts318cd'])"
   ]
  },
  {
   "cell_type": "code",
   "execution_count": 83,
   "metadata": {},
   "outputs": [
    {
     "name": "stdout",
     "output_type": "stream",
     "text": [
      "179\n",
      "42\n",
      "12\n"
     ]
    }
   ],
   "source": [
    "#get all unique codes - there should be 180\n",
    "nuts3 = set(nutscodes)\n",
    "nuts2 = set({x[:4] for x in nuts3})\n",
    "nuts1 = set({x[:3] for x in nuts2})\n",
    "print(len(nuts3))\n",
    "print(len(nuts2))\n",
    "print(len(nuts1))\n"
   ]
  },
  {
   "cell_type": "code",
   "execution_count": 84,
   "metadata": {},
   "outputs": [
    {
     "name": "stdout",
     "output_type": "stream",
     "text": [
      "{'UKJ37', 'UKG23', 'UKM61', 'UKM78', 'UKK11', 'UKM77', 'UKH32', 'UKD72', 'UKJ46', 'UKG22', 'UKM65', 'UKM95', 'UKG39', 'UKN09', 'UKF15', 'UKD42', 'UKI31', 'UKC12', 'UKM71', 'UKN15', 'UKI63', 'UKM62', 'UKH31', 'UKK30', 'UKF22', 'UKM84', 'UKD47', 'UKE22', 'UKD33', 'UKE42', 'UKE44', 'UKF30', 'UKN14', 'UKL23', 'UKE41', 'UKG33', 'UKL15', 'UKI32', 'UKH11', 'UKG38', 'UKD45', 'UKE31', 'UKJ36', 'UKD34', 'UKD11', 'UKE21', 'UKI44', 'UKC13', 'UKK15', 'UKH14', 'UKJ21', 'UKE12', 'UKH34', 'UKD61', 'UKK42', 'UKD71', 'UKG36', 'UKI74', 'UKM76', 'UKD37', 'UKD12', 'UKD73', 'UKF25', 'UKH15', 'UKH35', 'UKI45', 'UKI62', 'UKJ14', 'UKJ32', 'UKJ28', 'UKI53', 'UKC11', 'UKG31', 'UKK23', 'UKJ12', 'UKM93', 'UKC14', 'UKJ41', 'UKD63', 'UKN07', 'UKH16', 'UKL16', 'UKD41', 'UKF16', 'UKM63', 'UKM66', 'UKJ25', 'UKK43', 'UKK12', 'UKG12', 'UKC23', 'UKL11', 'UKK13', 'UKL18', 'UKF24', 'UKL12', 'UKN16', 'UKJ34', 'UKK41', 'UKH17', 'UKL14', 'UKK21', 'UKJ13', 'UKH24', 'UKE45', 'UKI61', 'UKI75', 'UKD35', 'UKC21', 'UKL24', 'UKF12', 'UKD36', 'UKI43', 'UKJ26', 'UKL13', 'UKG37', 'UKG11', 'UKH37', 'UKK14', 'UKI72', 'UKM82', 'UKI54', 'UKL22', 'UKM83', 'UKL21', 'UKF13', 'UKF11', 'UKD62', 'UKC22', 'UKH23', 'UKJ44', 'UKM64', 'UKF21', 'UKJ43', 'UKN08', 'UKG21', 'UKG32', 'UKN06', 'UKF14', 'UKI33', 'UKM72', 'UKH12', 'UKI51', 'UKI52', 'UKM50', 'UKM94', 'UKE11', 'UKE13', 'UKN13', 'UKI41', 'UKG13', 'UKJ11', 'UKM73', 'UKM81', 'UKH36', 'UKG24', 'UKM91', 'UKK22', 'UKJ22', 'UKI42', 'UKN12', 'UKJ31', 'UKJ35', 'UKN11', 'UKL17', 'UKI71', 'UKD46', 'UKJ27', 'UKH25', 'UKJ45', 'UKM92', 'UKN10', 'UKD44', 'UKH21', 'UKD74', 'UKE32', 'UKI73', 'UKM75', 'UKI34'}\n"
     ]
    }
   ],
   "source": [
    "print(nuts3)"
   ]
  },
  {
   "cell_type": "code",
   "execution_count": 85,
   "metadata": {},
   "outputs": [
    {
     "name": "stdout",
     "output_type": "stream",
     "text": [
      "UKN09\n",
      "UKN15\n",
      "UKN14\n",
      "UKN07\n",
      "UKN16\n",
      "UKN08\n",
      "UKN06\n",
      "UKN13\n",
      "UKN12\n",
      "UKN11\n",
      "UKN10\n",
      "Wall time: 44.8 s\n"
     ]
    }
   ],
   "source": [
    "%%time\n",
    "# count jobs in each zone\n",
    "counts_nuts3 = {}\n",
    "\n",
    "for area in nuts3:\n",
    "    #counters\n",
    "    c=0\n",
    "    topic_counts = [0]*ntopics\n",
    "    for element in newJobList:\n",
    "        if element[1] == area:\n",
    "            c+=1\n",
    "            topic_counts[element[2]]+=1\n",
    "    try:\n",
    "        counts_nuts3[area] = {'count':c, 'topic_spread':topic_counts,'dem_stats':dem_info[area]}\n",
    "    except:\n",
    "        print(area)\n",
    "        counts_nuts3[area] = {'count':c, 'topic_spread':topic_counts,'dem_stats':'NA'}\n"
   ]
  },
  {
   "cell_type": "code",
   "execution_count": 86,
   "metadata": {},
   "outputs": [
    {
     "name": "stdout",
     "output_type": "stream",
     "text": [
      "UKN1\n",
      "UKN0\n",
      "Wall time: 18.8 s\n"
     ]
    }
   ],
   "source": [
    "%%time\n",
    "counts_nuts2 = {}\n",
    "\n",
    "for area in nuts2:\n",
    "    #counters\n",
    "    c=0\n",
    "    topic_counts = [0]*ntopics\n",
    "    for element in newJobList:\n",
    "        if element[1][:4] == area:\n",
    "            c+=1\n",
    "            topic_counts[element[2]]+=1\n",
    "    try:\n",
    "        counts_nuts2[area] = {'count':c, 'topic_spread':topic_counts,'dem_stats':dem_info[area]}\n",
    "    except:\n",
    "        print(area)\n",
    "        counts_nuts2[area] = {'count':c, 'topic_spread':topic_counts,'dem_stats':'NA'}\n",
    "\n",
    "    "
   ]
  },
  {
   "cell_type": "code",
   "execution_count": 87,
   "metadata": {},
   "outputs": [
    {
     "name": "stdout",
     "output_type": "stream",
     "text": [
      "UKN\n",
      "Wall time: 5.75 s\n"
     ]
    }
   ],
   "source": [
    "%%time\n",
    "counts_nuts1 = {}\n",
    "\n",
    "for area in nuts1:\n",
    "    #counters\n",
    "    c=0\n",
    "    topic_counts = [0]*ntopics\n",
    "    for element in newJobList:\n",
    "        if element[1][:3] == area:\n",
    "            c+=1\n",
    "            topic_counts[element[2]]+=1\n",
    "    try:\n",
    "        counts_nuts1[area] = {'count':c, 'topic_spread':topic_counts,'dem_stats':dem_info[area]}\n",
    "    except:\n",
    "        print(area)\n",
    "        counts_nuts1[area] = {'count':c, 'topic_spread':topic_counts,'dem_stats':'NA'}\n",
    "\n",
    "    "
   ]
  },
  {
   "cell_type": "code",
   "execution_count": 88,
   "metadata": {},
   "outputs": [
    {
     "name": "stdout",
     "output_type": "stream",
     "text": [
      "{'UKC': {'count': 66838, 'topic_spread': [4070, 5271, 1174, 5325, 2610, 3537, 4231, 2309, 1268, 4701, 5131, 4607, 3917, 4431, 2911, 1147, 1241, 3760, 713, 4484], 'dem_stats': {'population': '1635500', 'employmentrate': '71.1', 'employeerate': '62.6', 'unemploymentrate': '5.8'}}, 'UKH': {'count': 353215, 'topic_spread': [28829, 23283, 3482, 42126, 14170, 7284, 25980, 21259, 9550, 15328, 26491, 25021, 19581, 21785, 12667, 8130, 4945, 18403, 5828, 19073], 'dem_stats': {'population': '3776800', 'employmentrate': '77.9', 'employeerate': '66.5', 'unemploymentrate': '3.3'}}, 'UKD': {'count': 321031, 'topic_spread': [22973, 21695, 3166, 29081, 21062, 14948, 14445, 23918, 10046, 11133, 22305, 27069, 16398, 12016, 13156, 11114, 10658, 16494, 4848, 14506], 'dem_stats': {'population': '4497100', 'employmentrate': '74.9', 'employeerate': '64.9', 'unemploymentrate': '4.1'}}, 'UKL': {'count': 67178, 'topic_spread': [5503, 5813, 617, 5135, 3148, 3189, 3746, 2588, 868, 4358, 5769, 3646, 4196, 4848, 3137, 1540, 838, 3109, 1162, 3968], 'dem_stats': {'population': '1900300', 'employmentrate': '73.7', 'employeerate': '63.6', 'unemploymentrate': '3.9'}}, 'UKF': {'count': 176173, 'topic_spread': [16981, 12029, 1541, 15934, 7586, 5756, 13508, 10460, 3875, 7973, 11518, 12977, 9567, 15182, 6109, 3716, 2352, 9573, 1754, 7782], 'dem_stats': {'population': '2947000', 'employmentrate': '76.8', 'employeerate': '66.6', 'unemploymentrate': '3.7'}}, 'UKI': {'count': 735615, 'topic_spread': [29657, 38413, 5434, 64155, 41215, 14205, 16967, 56994, 48293, 6724, 70113, 71637, 35490, 17756, 54709, 24183, 40934, 47474, 38919, 12343], 'dem_stats': {'population': '6082300', 'employmentrate': '75.1', 'employeerate': '61.5', 'unemploymentrate': '4.8'}}, 'UKJ': {'count': 613694, 'topic_spread': [36230, 47522, 5191, 71614, 33818, 17048, 32109, 37314, 19716, 20299, 49841, 48378, 34534, 29893, 28391, 16930, 12926, 33891, 14038, 24011], 'dem_stats': {'population': '5577000', 'employmentrate': '79.6', 'employeerate': '67.3', 'unemploymentrate': '3.2'}}, 'UKE': {'count': 205485, 'topic_spread': [16558, 13898, 1778, 19336, 12603, 10697, 10776, 14507, 5198, 6015, 15631, 15161, 11076, 13123, 7869, 4624, 4716, 10098, 3027, 8794], 'dem_stats': {'population': '3379400', 'employmentrate': '74.0', 'employeerate': '64.4', 'unemploymentrate': '4.2'}}, 'UKK': {'count': 248258, 'topic_spread': [18792, 22314, 1560, 24068, 15902, 6736, 12500, 9801, 6550, 10906, 17807, 16863, 13022, 19598, 9775, 5121, 7731, 13783, 1604, 13825], 'dem_stats': {'population': '3336000', 'employmentrate': '79.2', 'employeerate': '66.3', 'unemploymentrate': '3.3'}}, 'UKN': {'count': 452, 'topic_spread': [13, 87, 0, 19, 10, 6, 5, 10, 0, 210, 4, 6, 20, 7, 4, 1, 0, 2, 1, 47], 'dem_stats': 'NA'}, 'UKM': {'count': 15729, 'topic_spread': [799, 1652, 80, 899, 133, 68, 644, 372, 117, 983, 852, 464, 5118, 929, 430, 452, 29, 312, 56, 1340], 'dem_stats': {'population': '3442400', 'employmentrate': '74.5', 'employeerate': '65.4', 'unemploymentrate': '3.3'}}, 'UKG': {'count': 239903, 'topic_spread': [19172, 15601, 2769, 21953, 11922, 8768, 12878, 13884, 5679, 6241, 19681, 20007, 14371, 19433, 10252, 5736, 5206, 11311, 5763, 9276], 'dem_stats': {'population': '3613600', 'employmentrate': '73.9', 'employeerate': '63.8', 'unemploymentrate': '5.0'}}}\n"
     ]
    }
   ],
   "source": [
    "print(counts_nuts1)"
   ]
  },
  {
   "cell_type": "code",
   "execution_count": 89,
   "metadata": {},
   "outputs": [],
   "source": [
    "# write out JS file:\n",
    "data = {\n",
    "        'nuts1':counts_nuts1,\n",
    "        'nuts2':counts_nuts2,\n",
    "        'nuts3':counts_nuts3\n",
    "        }\n",
    "\n",
    "with open('map_data.js', 'w') as outfile:\n",
    "    outfile.write('map_data = ')\n",
    "    json.dump(data, outfile)"
   ]
  },
  {
   "cell_type": "code",
   "execution_count": null,
   "metadata": {},
   "outputs": [],
   "source": []
  },
  {
   "cell_type": "code",
   "execution_count": null,
   "metadata": {},
   "outputs": [],
   "source": []
  }
 ],
 "metadata": {
  "kernelspec": {
   "display_name": "Python 3",
   "language": "python",
   "name": "python3"
  },
  "language_info": {
   "codemirror_mode": {
    "name": "ipython",
    "version": 3
   },
   "file_extension": ".py",
   "mimetype": "text/x-python",
   "name": "python",
   "nbconvert_exporter": "python",
   "pygments_lexer": "ipython3",
   "version": "3.7.1"
  }
 },
 "nbformat": 4,
 "nbformat_minor": 2
}
